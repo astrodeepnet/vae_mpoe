{
 "cells": [
  {
   "cell_type": "code",
   "execution_count": null,
   "id": "c15d9ea2-36e8-469c-8a0c-d5f63d279ac4",
   "metadata": {},
   "outputs": [
    {
     "name": "stderr",
     "output_type": "stream",
     "text": [
      "/tmp/ipykernel_88943/3006965017.py:34: UserWarning: Warning: converting a masked element to nan.\n",
      "  mags = np.array([\n"
     ]
    },
    {
     "name": "stdout",
     "output_type": "stream",
     "text": [
      "Epoch 1: loading weights from /data/kirg/MMVAE/epochs/BandPassVAE/weights_epoch_01.weights.h5\n"
     ]
    },
    {
     "name": "stderr",
     "output_type": "stream",
     "text": [
      "/home/kirg/envs/envp3.12/lib/python3.12/site-packages/keras/src/models/functional.py:238: UserWarning: The structure of `inputs` doesn't match the expected structure.\n",
      "Expected: ['keras_tensor_3427']\n",
      "Received: inputs=Tensor(shape=(1, 5))\n",
      "  warnings.warn(msg)\n",
      "/home/kirg/envs/envp3.12/lib/python3.12/site-packages/keras/src/saving/saving_lib.py:757: UserWarning: Skipping variable loading for optimizer 'adam', because it has 2 variables whereas the saved optimizer has 38 variables. \n",
      "  saveable.load_own_variables(weights_store.get(inner_path))\n",
      "/home/kirg/envs/envp3.12/lib/python3.12/site-packages/keras/src/models/functional.py:238: UserWarning: The structure of `inputs` doesn't match the expected structure.\n",
      "Expected: ['keras_tensor_3427']\n",
      "Received: inputs=Tensor(shape=(129135, 5))\n",
      "  warnings.warn(msg)\n"
     ]
    }
   ],
   "source": [
    "import os\n",
    "import numpy as np\n",
    "import matplotlib.pyplot as plt\n",
    "import corner\n",
    "from astropy.io import fits\n",
    "from astropy.table import Table\n",
    "from ParamVAEapply import ParamVAEapply\n",
    "from BandPassVAE import BandPassVAE\n",
    "from SpectraVAE import SpectraVAE\n",
    "from ParamVAE import ParamVAE\n",
    "import tensorflow as tf\n",
    "import keras\n",
    "\n",
    "# Configuration\n",
    "latent_dim = 32\n",
    "beta = 1e-3\n",
    "epochs = 50\n",
    "input_dim = 5  # Number of input bands\n",
    "\n",
    "# Paths\n",
    "weight_path = \"/data/kirg/MMVAE/\"\n",
    "save_path = os.path.join(weight_path, 'epochs/BandPassVAE/')\n",
    "plot_output_path = os.path.join(weight_path, 'cornerplots')\n",
    "os.makedirs(plot_output_path, exist_ok=True)\n",
    "\n",
    "# Load photometric data from FITS file\n",
    "fits_file = 'DESI_DR1_HSCSSP_clean_v2.fits'\n",
    "t_hsc_ = Table.read(fits_file)\n",
    "t_hsc = t_hsc_[(t_hsc_['z'] > 0.1) & (t_hsc_['z'] < 0.95) & (t_hsc_['zwarn'] == 0)]\n",
    "\n",
    "# Convert magnitudes to normalized fluxes\n",
    "hsc_int = []\n",
    "for row in t_hsc:\n",
    "    mags = np.array([\n",
    "        row['g_kronflux_mag'],\n",
    "        row['r_kronflux_mag'],\n",
    "        row['i_kronflux_mag'],\n",
    "        row['z_kronflux_mag'],\n",
    "        row['y_kronflux_mag']\n",
    "    ])\n",
    "    band_flux = 10**(-0.4 * mags)\n",
    "    band_flux /= np.max(band_flux)\n",
    "    hsc_int.append(band_flux)\n",
    "\n",
    "hsc_input = np.reshape(hsc_int, (len(hsc_int), input_dim))\n",
    "\n",
    "# Loop through all epochs\n",
    "for epoch in range(1, epochs + 1):\n",
    "    weight_file = os.path.join(save_path, f'weights_epoch_{epoch:02d}.weights.h5')\n",
    "    \n",
    "    if not os.path.exists(weight_file):\n",
    "        print(f\"Skipping epoch {epoch}: weights not found.\")\n",
    "        continue\n",
    "\n",
    "    print(f\"Epoch {epoch}: loading weights from {weight_file}\")\n",
    "\n",
    "    # Rebuild models\n",
    "    spvae = SpectraVAE(100, latent_dim, beta=beta)  # dummy spectra input size\n",
    "    bpvae = BandPassVAE(input_dim, latent_dim, spvae, beta=beta)\n",
    "    bpvae.compile(optimizer=keras.optimizers.Adam())\n",
    "    bpvae(tf.zeros((1, input_dim)))  # Build model\n",
    "\n",
    "    # Load weights\n",
    "    try:\n",
    "        bpvae.load_weights(weight_file)\n",
    "    except Exception as e:\n",
    "        print(f\"Error loading weights for epoch {epoch}: {e}\")\n",
    "        continue\n",
    "\n",
    "    # Create ParamVAE and ParamVAEapply\n",
    "    parvae = ParamVAE(input_dim, latent_dim, spvae, beta=beta)\n",
    "    parvaeapply = ParamVAEapply(input_dim, latent_dim, bpvae, parvae, beta=beta)\n",
    "\n",
    "    # Apply model to input data\n",
    "    s = np.array(parvaeapply.encoder(hsc_input))\n",
    "    ss = s[0, :, :]\n",
    "    s_clean = ss[np.all(np.isfinite(ss), axis=1)]\n",
    "    \n",
    "    # Plot corner plot of first few latent dimensions\n",
    "    fig = corner.corner(\n",
    "        s_clean,\n",
    "        #labels=[f\"$z_{i}$\" for i in range(latent_dim)],\n",
    "        #show_titles=True,\n",
    "        title_fmt=\".2f\",\n",
    "        title_kwargs={\"fontsize\": 12},\n",
    "        plot_contours=False,\n",
    "        #range=[(-0.5, 0.5)] * 32\n",
    "    )\n",
    "    #plt.show()\n",
    "    filename = os.path.join(plot_output_path, f\"corner_epoch_{epoch:02d}.png\")\n",
    "    fig.savefig(filename)\n",
    "    plt.close(fig)\n",
    "\n",
    "    print(f\"Saved: {filename}\")\n"
   ]
  },
  {
   "cell_type": "code",
   "execution_count": null,
   "id": "2186b532-94bc-46c8-9bb0-05a2acb9d73f",
   "metadata": {},
   "outputs": [],
   "source": []
  }
 ],
 "metadata": {
  "kernelspec": {
   "display_name": "Python 3 (ipykernel)",
   "language": "python",
   "name": "python3"
  },
  "language_info": {
   "codemirror_mode": {
    "name": "ipython",
    "version": 3
   },
   "file_extension": ".py",
   "mimetype": "text/x-python",
   "name": "python",
   "nbconvert_exporter": "python",
   "pygments_lexer": "ipython3",
   "version": "3.12.3"
  }
 },
 "nbformat": 4,
 "nbformat_minor": 5
}

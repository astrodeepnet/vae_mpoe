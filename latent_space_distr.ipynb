{
 "cells": [
  {
   "cell_type": "code",
   "execution_count": 5,
   "id": "c15d9ea2-36e8-469c-8a0c-d5f63d279ac4",
   "metadata": {},
   "outputs": [
    {
     "name": "stderr",
     "output_type": "stream",
     "text": [
      "/tmp/ipykernel_134878/745510392.py:64: UserWarning: Warning: converting a masked element to nan.\n",
      "  mags = np.array([\n"
     ]
    },
    {
     "name": "stdout",
     "output_type": "stream",
     "text": [
      "Epoch 1: loading weights from /data/kirg/MMVAE/epochs/BandPassVAE/weights_epoch_01.weights.h5\n"
     ]
    },
    {
     "name": "stderr",
     "output_type": "stream",
     "text": [
      "/home/kirg/envs/envp3.12/lib/python3.12/site-packages/keras/src/models/functional.py:238: UserWarning: The structure of `inputs` doesn't match the expected structure.\n",
      "Expected: ['keras_tensor_4337']\n",
      "Received: inputs=Tensor(shape=(1, 5))\n",
      "  warnings.warn(msg)\n",
      "/home/kirg/envs/envp3.12/lib/python3.12/site-packages/keras/src/saving/saving_lib.py:757: UserWarning: Skipping variable loading for optimizer 'adam', because it has 2 variables whereas the saved optimizer has 38 variables. \n",
      "  saveable.load_own_variables(weights_store.get(inner_path))\n",
      "/home/kirg/envs/envp3.12/lib/python3.12/site-packages/keras/src/models/functional.py:238: UserWarning: The structure of `inputs` doesn't match the expected structure.\n",
      "Expected: ['keras_tensor_4337']\n",
      "Received: inputs=Tensor(shape=(129135, 5))\n",
      "  warnings.warn(msg)\n"
     ]
    },
    {
     "name": "stdout",
     "output_type": "stream",
     "text": [
      "Saved: /data/kirg/MMVAE/cornerplots_train/corner_epoch_01.png\n",
      "Epoch 2: loading weights from /data/kirg/MMVAE/epochs/BandPassVAE/weights_epoch_02.weights.h5\n"
     ]
    },
    {
     "name": "stderr",
     "output_type": "stream",
     "text": [
      "/home/kirg/envs/envp3.12/lib/python3.12/site-packages/keras/src/models/functional.py:238: UserWarning: The structure of `inputs` doesn't match the expected structure.\n",
      "Expected: ['keras_tensor_4377']\n",
      "Received: inputs=Tensor(shape=(1, 5))\n",
      "  warnings.warn(msg)\n",
      "/home/kirg/envs/envp3.12/lib/python3.12/site-packages/keras/src/saving/saving_lib.py:757: UserWarning: Skipping variable loading for optimizer 'adam', because it has 2 variables whereas the saved optimizer has 38 variables. \n",
      "  saveable.load_own_variables(weights_store.get(inner_path))\n",
      "/home/kirg/envs/envp3.12/lib/python3.12/site-packages/keras/src/models/functional.py:238: UserWarning: The structure of `inputs` doesn't match the expected structure.\n",
      "Expected: ['keras_tensor_4377']\n",
      "Received: inputs=Tensor(shape=(129135, 5))\n",
      "  warnings.warn(msg)\n",
      "WARNING:root:Too few points to create valid contours\n",
      "WARNING:root:Too few points to create valid contours\n"
     ]
    },
    {
     "name": "stdout",
     "output_type": "stream",
     "text": [
      "Saved: /data/kirg/MMVAE/cornerplots_train/corner_epoch_02.png\n",
      "Epoch 3: loading weights from /data/kirg/MMVAE/epochs/BandPassVAE/weights_epoch_03.weights.h5\n"
     ]
    },
    {
     "name": "stderr",
     "output_type": "stream",
     "text": [
      "/home/kirg/envs/envp3.12/lib/python3.12/site-packages/keras/src/models/functional.py:238: UserWarning: The structure of `inputs` doesn't match the expected structure.\n",
      "Expected: ['keras_tensor_4417']\n",
      "Received: inputs=Tensor(shape=(1, 5))\n",
      "  warnings.warn(msg)\n",
      "/home/kirg/envs/envp3.12/lib/python3.12/site-packages/keras/src/saving/saving_lib.py:757: UserWarning: Skipping variable loading for optimizer 'adam', because it has 2 variables whereas the saved optimizer has 38 variables. \n",
      "  saveable.load_own_variables(weights_store.get(inner_path))\n",
      "/home/kirg/envs/envp3.12/lib/python3.12/site-packages/keras/src/models/functional.py:238: UserWarning: The structure of `inputs` doesn't match the expected structure.\n",
      "Expected: ['keras_tensor_4417']\n",
      "Received: inputs=Tensor(shape=(129135, 5))\n",
      "  warnings.warn(msg)\n"
     ]
    },
    {
     "name": "stdout",
     "output_type": "stream",
     "text": [
      "Saved: /data/kirg/MMVAE/cornerplots_train/corner_epoch_03.png\n",
      "Epoch 4: loading weights from /data/kirg/MMVAE/epochs/BandPassVAE/weights_epoch_04.weights.h5\n"
     ]
    },
    {
     "name": "stderr",
     "output_type": "stream",
     "text": [
      "/home/kirg/envs/envp3.12/lib/python3.12/site-packages/keras/src/models/functional.py:238: UserWarning: The structure of `inputs` doesn't match the expected structure.\n",
      "Expected: ['keras_tensor_4457']\n",
      "Received: inputs=Tensor(shape=(1, 5))\n",
      "  warnings.warn(msg)\n",
      "/home/kirg/envs/envp3.12/lib/python3.12/site-packages/keras/src/saving/saving_lib.py:757: UserWarning: Skipping variable loading for optimizer 'adam', because it has 2 variables whereas the saved optimizer has 38 variables. \n",
      "  saveable.load_own_variables(weights_store.get(inner_path))\n",
      "/home/kirg/envs/envp3.12/lib/python3.12/site-packages/keras/src/models/functional.py:238: UserWarning: The structure of `inputs` doesn't match the expected structure.\n",
      "Expected: ['keras_tensor_4457']\n",
      "Received: inputs=Tensor(shape=(129135, 5))\n",
      "  warnings.warn(msg)\n"
     ]
    },
    {
     "name": "stdout",
     "output_type": "stream",
     "text": [
      "Saved: /data/kirg/MMVAE/cornerplots_train/corner_epoch_04.png\n",
      "Epoch 5: loading weights from /data/kirg/MMVAE/epochs/BandPassVAE/weights_epoch_05.weights.h5\n"
     ]
    },
    {
     "name": "stderr",
     "output_type": "stream",
     "text": [
      "/home/kirg/envs/envp3.12/lib/python3.12/site-packages/keras/src/models/functional.py:238: UserWarning: The structure of `inputs` doesn't match the expected structure.\n",
      "Expected: ['keras_tensor_4497']\n",
      "Received: inputs=Tensor(shape=(1, 5))\n",
      "  warnings.warn(msg)\n",
      "/home/kirg/envs/envp3.12/lib/python3.12/site-packages/keras/src/saving/saving_lib.py:757: UserWarning: Skipping variable loading for optimizer 'adam', because it has 2 variables whereas the saved optimizer has 38 variables. \n",
      "  saveable.load_own_variables(weights_store.get(inner_path))\n",
      "/home/kirg/envs/envp3.12/lib/python3.12/site-packages/keras/src/models/functional.py:238: UserWarning: The structure of `inputs` doesn't match the expected structure.\n",
      "Expected: ['keras_tensor_4497']\n",
      "Received: inputs=Tensor(shape=(129135, 5))\n",
      "  warnings.warn(msg)\n",
      "WARNING:root:Too few points to create valid contours\n"
     ]
    },
    {
     "name": "stdout",
     "output_type": "stream",
     "text": [
      "Saved: /data/kirg/MMVAE/cornerplots_train/corner_epoch_05.png\n",
      "Epoch 6: loading weights from /data/kirg/MMVAE/epochs/BandPassVAE/weights_epoch_06.weights.h5\n"
     ]
    },
    {
     "name": "stderr",
     "output_type": "stream",
     "text": [
      "/home/kirg/envs/envp3.12/lib/python3.12/site-packages/keras/src/models/functional.py:238: UserWarning: The structure of `inputs` doesn't match the expected structure.\n",
      "Expected: ['keras_tensor_4537']\n",
      "Received: inputs=Tensor(shape=(1, 5))\n",
      "  warnings.warn(msg)\n",
      "/home/kirg/envs/envp3.12/lib/python3.12/site-packages/keras/src/saving/saving_lib.py:757: UserWarning: Skipping variable loading for optimizer 'adam', because it has 2 variables whereas the saved optimizer has 38 variables. \n",
      "  saveable.load_own_variables(weights_store.get(inner_path))\n",
      "/home/kirg/envs/envp3.12/lib/python3.12/site-packages/keras/src/models/functional.py:238: UserWarning: The structure of `inputs` doesn't match the expected structure.\n",
      "Expected: ['keras_tensor_4537']\n",
      "Received: inputs=Tensor(shape=(129135, 5))\n",
      "  warnings.warn(msg)\n",
      "WARNING:root:Too few points to create valid contours\n",
      "WARNING:root:Too few points to create valid contours\n",
      "WARNING:root:Too few points to create valid contours\n",
      "WARNING:root:Too few points to create valid contours\n",
      "WARNING:root:Too few points to create valid contours\n",
      "WARNING:root:Too few points to create valid contours\n",
      "WARNING:root:Too few points to create valid contours\n",
      "WARNING:root:Too few points to create valid contours\n",
      "WARNING:root:Too few points to create valid contours\n"
     ]
    },
    {
     "name": "stdout",
     "output_type": "stream",
     "text": [
      "Saved: /data/kirg/MMVAE/cornerplots_train/corner_epoch_06.png\n",
      "Epoch 7: loading weights from /data/kirg/MMVAE/epochs/BandPassVAE/weights_epoch_07.weights.h5\n"
     ]
    },
    {
     "name": "stderr",
     "output_type": "stream",
     "text": [
      "/home/kirg/envs/envp3.12/lib/python3.12/site-packages/keras/src/models/functional.py:238: UserWarning: The structure of `inputs` doesn't match the expected structure.\n",
      "Expected: ['keras_tensor_4577']\n",
      "Received: inputs=Tensor(shape=(1, 5))\n",
      "  warnings.warn(msg)\n",
      "/home/kirg/envs/envp3.12/lib/python3.12/site-packages/keras/src/saving/saving_lib.py:757: UserWarning: Skipping variable loading for optimizer 'adam', because it has 2 variables whereas the saved optimizer has 38 variables. \n",
      "  saveable.load_own_variables(weights_store.get(inner_path))\n",
      "/home/kirg/envs/envp3.12/lib/python3.12/site-packages/keras/src/models/functional.py:238: UserWarning: The structure of `inputs` doesn't match the expected structure.\n",
      "Expected: ['keras_tensor_4577']\n",
      "Received: inputs=Tensor(shape=(129135, 5))\n",
      "  warnings.warn(msg)\n",
      "WARNING:root:Too few points to create valid contours\n",
      "WARNING:root:Too few points to create valid contours\n"
     ]
    },
    {
     "name": "stdout",
     "output_type": "stream",
     "text": [
      "Saved: /data/kirg/MMVAE/cornerplots_train/corner_epoch_07.png\n",
      "Epoch 8: loading weights from /data/kirg/MMVAE/epochs/BandPassVAE/weights_epoch_08.weights.h5\n"
     ]
    },
    {
     "name": "stderr",
     "output_type": "stream",
     "text": [
      "/home/kirg/envs/envp3.12/lib/python3.12/site-packages/keras/src/models/functional.py:238: UserWarning: The structure of `inputs` doesn't match the expected structure.\n",
      "Expected: ['keras_tensor_4617']\n",
      "Received: inputs=Tensor(shape=(1, 5))\n",
      "  warnings.warn(msg)\n",
      "/home/kirg/envs/envp3.12/lib/python3.12/site-packages/keras/src/saving/saving_lib.py:757: UserWarning: Skipping variable loading for optimizer 'adam', because it has 2 variables whereas the saved optimizer has 38 variables. \n",
      "  saveable.load_own_variables(weights_store.get(inner_path))\n",
      "/home/kirg/envs/envp3.12/lib/python3.12/site-packages/keras/src/models/functional.py:238: UserWarning: The structure of `inputs` doesn't match the expected structure.\n",
      "Expected: ['keras_tensor_4617']\n",
      "Received: inputs=Tensor(shape=(129135, 5))\n",
      "  warnings.warn(msg)\n"
     ]
    },
    {
     "name": "stdout",
     "output_type": "stream",
     "text": [
      "Saved: /data/kirg/MMVAE/cornerplots_train/corner_epoch_08.png\n",
      "Epoch 9: loading weights from /data/kirg/MMVAE/epochs/BandPassVAE/weights_epoch_09.weights.h5\n"
     ]
    },
    {
     "name": "stderr",
     "output_type": "stream",
     "text": [
      "/home/kirg/envs/envp3.12/lib/python3.12/site-packages/keras/src/models/functional.py:238: UserWarning: The structure of `inputs` doesn't match the expected structure.\n",
      "Expected: ['keras_tensor_4657']\n",
      "Received: inputs=Tensor(shape=(1, 5))\n",
      "  warnings.warn(msg)\n",
      "/home/kirg/envs/envp3.12/lib/python3.12/site-packages/keras/src/saving/saving_lib.py:757: UserWarning: Skipping variable loading for optimizer 'adam', because it has 2 variables whereas the saved optimizer has 38 variables. \n",
      "  saveable.load_own_variables(weights_store.get(inner_path))\n",
      "/home/kirg/envs/envp3.12/lib/python3.12/site-packages/keras/src/models/functional.py:238: UserWarning: The structure of `inputs` doesn't match the expected structure.\n",
      "Expected: ['keras_tensor_4657']\n",
      "Received: inputs=Tensor(shape=(129135, 5))\n",
      "  warnings.warn(msg)\n"
     ]
    },
    {
     "name": "stdout",
     "output_type": "stream",
     "text": [
      "Saved: /data/kirg/MMVAE/cornerplots_train/corner_epoch_09.png\n",
      "Epoch 10: loading weights from /data/kirg/MMVAE/epochs/BandPassVAE/weights_epoch_10.weights.h5\n"
     ]
    },
    {
     "name": "stderr",
     "output_type": "stream",
     "text": [
      "/home/kirg/envs/envp3.12/lib/python3.12/site-packages/keras/src/models/functional.py:238: UserWarning: The structure of `inputs` doesn't match the expected structure.\n",
      "Expected: ['keras_tensor_4697']\n",
      "Received: inputs=Tensor(shape=(1, 5))\n",
      "  warnings.warn(msg)\n",
      "/home/kirg/envs/envp3.12/lib/python3.12/site-packages/keras/src/saving/saving_lib.py:757: UserWarning: Skipping variable loading for optimizer 'adam', because it has 2 variables whereas the saved optimizer has 38 variables. \n",
      "  saveable.load_own_variables(weights_store.get(inner_path))\n",
      "/home/kirg/envs/envp3.12/lib/python3.12/site-packages/keras/src/models/functional.py:238: UserWarning: The structure of `inputs` doesn't match the expected structure.\n",
      "Expected: ['keras_tensor_4697']\n",
      "Received: inputs=Tensor(shape=(129135, 5))\n",
      "  warnings.warn(msg)\n"
     ]
    },
    {
     "name": "stdout",
     "output_type": "stream",
     "text": [
      "Saved: /data/kirg/MMVAE/cornerplots_train/corner_epoch_10.png\n",
      "Epoch 11: loading weights from /data/kirg/MMVAE/epochs/BandPassVAE/weights_epoch_11.weights.h5\n"
     ]
    },
    {
     "name": "stderr",
     "output_type": "stream",
     "text": [
      "/home/kirg/envs/envp3.12/lib/python3.12/site-packages/keras/src/models/functional.py:238: UserWarning: The structure of `inputs` doesn't match the expected structure.\n",
      "Expected: ['keras_tensor_4737']\n",
      "Received: inputs=Tensor(shape=(1, 5))\n",
      "  warnings.warn(msg)\n",
      "/home/kirg/envs/envp3.12/lib/python3.12/site-packages/keras/src/saving/saving_lib.py:757: UserWarning: Skipping variable loading for optimizer 'adam', because it has 2 variables whereas the saved optimizer has 38 variables. \n",
      "  saveable.load_own_variables(weights_store.get(inner_path))\n",
      "/home/kirg/envs/envp3.12/lib/python3.12/site-packages/keras/src/models/functional.py:238: UserWarning: The structure of `inputs` doesn't match the expected structure.\n",
      "Expected: ['keras_tensor_4737']\n",
      "Received: inputs=Tensor(shape=(129135, 5))\n",
      "  warnings.warn(msg)\n"
     ]
    },
    {
     "name": "stdout",
     "output_type": "stream",
     "text": [
      "Saved: /data/kirg/MMVAE/cornerplots_train/corner_epoch_11.png\n",
      "Epoch 12: loading weights from /data/kirg/MMVAE/epochs/BandPassVAE/weights_epoch_12.weights.h5\n"
     ]
    },
    {
     "name": "stderr",
     "output_type": "stream",
     "text": [
      "/home/kirg/envs/envp3.12/lib/python3.12/site-packages/keras/src/models/functional.py:238: UserWarning: The structure of `inputs` doesn't match the expected structure.\n",
      "Expected: ['keras_tensor_4777']\n",
      "Received: inputs=Tensor(shape=(1, 5))\n",
      "  warnings.warn(msg)\n",
      "/home/kirg/envs/envp3.12/lib/python3.12/site-packages/keras/src/saving/saving_lib.py:757: UserWarning: Skipping variable loading for optimizer 'adam', because it has 2 variables whereas the saved optimizer has 38 variables. \n",
      "  saveable.load_own_variables(weights_store.get(inner_path))\n",
      "/home/kirg/envs/envp3.12/lib/python3.12/site-packages/keras/src/models/functional.py:238: UserWarning: The structure of `inputs` doesn't match the expected structure.\n",
      "Expected: ['keras_tensor_4777']\n",
      "Received: inputs=Tensor(shape=(129135, 5))\n",
      "  warnings.warn(msg)\n"
     ]
    },
    {
     "name": "stdout",
     "output_type": "stream",
     "text": [
      "Saved: /data/kirg/MMVAE/cornerplots_train/corner_epoch_12.png\n",
      "Epoch 13: loading weights from /data/kirg/MMVAE/epochs/BandPassVAE/weights_epoch_13.weights.h5\n"
     ]
    },
    {
     "name": "stderr",
     "output_type": "stream",
     "text": [
      "/home/kirg/envs/envp3.12/lib/python3.12/site-packages/keras/src/models/functional.py:238: UserWarning: The structure of `inputs` doesn't match the expected structure.\n",
      "Expected: ['keras_tensor_4817']\n",
      "Received: inputs=Tensor(shape=(1, 5))\n",
      "  warnings.warn(msg)\n",
      "/home/kirg/envs/envp3.12/lib/python3.12/site-packages/keras/src/saving/saving_lib.py:757: UserWarning: Skipping variable loading for optimizer 'adam', because it has 2 variables whereas the saved optimizer has 38 variables. \n",
      "  saveable.load_own_variables(weights_store.get(inner_path))\n",
      "/home/kirg/envs/envp3.12/lib/python3.12/site-packages/keras/src/models/functional.py:238: UserWarning: The structure of `inputs` doesn't match the expected structure.\n",
      "Expected: ['keras_tensor_4817']\n",
      "Received: inputs=Tensor(shape=(129135, 5))\n",
      "  warnings.warn(msg)\n"
     ]
    },
    {
     "name": "stdout",
     "output_type": "stream",
     "text": [
      "Saved: /data/kirg/MMVAE/cornerplots_train/corner_epoch_13.png\n",
      "Epoch 14: loading weights from /data/kirg/MMVAE/epochs/BandPassVAE/weights_epoch_14.weights.h5\n"
     ]
    },
    {
     "name": "stderr",
     "output_type": "stream",
     "text": [
      "/home/kirg/envs/envp3.12/lib/python3.12/site-packages/keras/src/models/functional.py:238: UserWarning: The structure of `inputs` doesn't match the expected structure.\n",
      "Expected: ['keras_tensor_4857']\n",
      "Received: inputs=Tensor(shape=(1, 5))\n",
      "  warnings.warn(msg)\n",
      "/home/kirg/envs/envp3.12/lib/python3.12/site-packages/keras/src/saving/saving_lib.py:757: UserWarning: Skipping variable loading for optimizer 'adam', because it has 2 variables whereas the saved optimizer has 38 variables. \n",
      "  saveable.load_own_variables(weights_store.get(inner_path))\n",
      "/home/kirg/envs/envp3.12/lib/python3.12/site-packages/keras/src/models/functional.py:238: UserWarning: The structure of `inputs` doesn't match the expected structure.\n",
      "Expected: ['keras_tensor_4857']\n",
      "Received: inputs=Tensor(shape=(129135, 5))\n",
      "  warnings.warn(msg)\n"
     ]
    },
    {
     "name": "stdout",
     "output_type": "stream",
     "text": [
      "Saved: /data/kirg/MMVAE/cornerplots_train/corner_epoch_14.png\n",
      "Epoch 15: loading weights from /data/kirg/MMVAE/epochs/BandPassVAE/weights_epoch_15.weights.h5\n"
     ]
    },
    {
     "name": "stderr",
     "output_type": "stream",
     "text": [
      "/home/kirg/envs/envp3.12/lib/python3.12/site-packages/keras/src/models/functional.py:238: UserWarning: The structure of `inputs` doesn't match the expected structure.\n",
      "Expected: ['keras_tensor_4897']\n",
      "Received: inputs=Tensor(shape=(1, 5))\n",
      "  warnings.warn(msg)\n",
      "/home/kirg/envs/envp3.12/lib/python3.12/site-packages/keras/src/saving/saving_lib.py:757: UserWarning: Skipping variable loading for optimizer 'adam', because it has 2 variables whereas the saved optimizer has 38 variables. \n",
      "  saveable.load_own_variables(weights_store.get(inner_path))\n",
      "/home/kirg/envs/envp3.12/lib/python3.12/site-packages/keras/src/models/functional.py:238: UserWarning: The structure of `inputs` doesn't match the expected structure.\n",
      "Expected: ['keras_tensor_4897']\n",
      "Received: inputs=Tensor(shape=(129135, 5))\n",
      "  warnings.warn(msg)\n"
     ]
    },
    {
     "name": "stdout",
     "output_type": "stream",
     "text": [
      "Saved: /data/kirg/MMVAE/cornerplots_train/corner_epoch_15.png\n",
      "Epoch 16: loading weights from /data/kirg/MMVAE/epochs/BandPassVAE/weights_epoch_16.weights.h5\n"
     ]
    },
    {
     "name": "stderr",
     "output_type": "stream",
     "text": [
      "/home/kirg/envs/envp3.12/lib/python3.12/site-packages/keras/src/models/functional.py:238: UserWarning: The structure of `inputs` doesn't match the expected structure.\n",
      "Expected: ['keras_tensor_4937']\n",
      "Received: inputs=Tensor(shape=(1, 5))\n",
      "  warnings.warn(msg)\n",
      "/home/kirg/envs/envp3.12/lib/python3.12/site-packages/keras/src/saving/saving_lib.py:757: UserWarning: Skipping variable loading for optimizer 'adam', because it has 2 variables whereas the saved optimizer has 38 variables. \n",
      "  saveable.load_own_variables(weights_store.get(inner_path))\n",
      "/home/kirg/envs/envp3.12/lib/python3.12/site-packages/keras/src/models/functional.py:238: UserWarning: The structure of `inputs` doesn't match the expected structure.\n",
      "Expected: ['keras_tensor_4937']\n",
      "Received: inputs=Tensor(shape=(129135, 5))\n",
      "  warnings.warn(msg)\n",
      "WARNING:root:Too few points to create valid contours\n"
     ]
    },
    {
     "name": "stdout",
     "output_type": "stream",
     "text": [
      "Saved: /data/kirg/MMVAE/cornerplots_train/corner_epoch_16.png\n",
      "Epoch 17: loading weights from /data/kirg/MMVAE/epochs/BandPassVAE/weights_epoch_17.weights.h5\n"
     ]
    },
    {
     "name": "stderr",
     "output_type": "stream",
     "text": [
      "/home/kirg/envs/envp3.12/lib/python3.12/site-packages/keras/src/models/functional.py:238: UserWarning: The structure of `inputs` doesn't match the expected structure.\n",
      "Expected: ['keras_tensor_4977']\n",
      "Received: inputs=Tensor(shape=(1, 5))\n",
      "  warnings.warn(msg)\n",
      "/home/kirg/envs/envp3.12/lib/python3.12/site-packages/keras/src/saving/saving_lib.py:757: UserWarning: Skipping variable loading for optimizer 'adam', because it has 2 variables whereas the saved optimizer has 38 variables. \n",
      "  saveable.load_own_variables(weights_store.get(inner_path))\n",
      "/home/kirg/envs/envp3.12/lib/python3.12/site-packages/keras/src/models/functional.py:238: UserWarning: The structure of `inputs` doesn't match the expected structure.\n",
      "Expected: ['keras_tensor_4977']\n",
      "Received: inputs=Tensor(shape=(129135, 5))\n",
      "  warnings.warn(msg)\n",
      "WARNING:root:Too few points to create valid contours\n"
     ]
    },
    {
     "name": "stdout",
     "output_type": "stream",
     "text": [
      "Saved: /data/kirg/MMVAE/cornerplots_train/corner_epoch_17.png\n",
      "Epoch 18: loading weights from /data/kirg/MMVAE/epochs/BandPassVAE/weights_epoch_18.weights.h5\n"
     ]
    },
    {
     "name": "stderr",
     "output_type": "stream",
     "text": [
      "/home/kirg/envs/envp3.12/lib/python3.12/site-packages/keras/src/models/functional.py:238: UserWarning: The structure of `inputs` doesn't match the expected structure.\n",
      "Expected: ['keras_tensor_5017']\n",
      "Received: inputs=Tensor(shape=(1, 5))\n",
      "  warnings.warn(msg)\n",
      "/home/kirg/envs/envp3.12/lib/python3.12/site-packages/keras/src/saving/saving_lib.py:757: UserWarning: Skipping variable loading for optimizer 'adam', because it has 2 variables whereas the saved optimizer has 38 variables. \n",
      "  saveable.load_own_variables(weights_store.get(inner_path))\n",
      "/home/kirg/envs/envp3.12/lib/python3.12/site-packages/keras/src/models/functional.py:238: UserWarning: The structure of `inputs` doesn't match the expected structure.\n",
      "Expected: ['keras_tensor_5017']\n",
      "Received: inputs=Tensor(shape=(129135, 5))\n",
      "  warnings.warn(msg)\n",
      "WARNING:root:Too few points to create valid contours\n",
      "WARNING:root:Too few points to create valid contours\n",
      "WARNING:root:Too few points to create valid contours\n",
      "WARNING:root:Too few points to create valid contours\n"
     ]
    },
    {
     "name": "stdout",
     "output_type": "stream",
     "text": [
      "Saved: /data/kirg/MMVAE/cornerplots_train/corner_epoch_18.png\n",
      "Epoch 19: loading weights from /data/kirg/MMVAE/epochs/BandPassVAE/weights_epoch_19.weights.h5\n"
     ]
    },
    {
     "name": "stderr",
     "output_type": "stream",
     "text": [
      "/home/kirg/envs/envp3.12/lib/python3.12/site-packages/keras/src/models/functional.py:238: UserWarning: The structure of `inputs` doesn't match the expected structure.\n",
      "Expected: ['keras_tensor_5057']\n",
      "Received: inputs=Tensor(shape=(1, 5))\n",
      "  warnings.warn(msg)\n",
      "/home/kirg/envs/envp3.12/lib/python3.12/site-packages/keras/src/saving/saving_lib.py:757: UserWarning: Skipping variable loading for optimizer 'adam', because it has 2 variables whereas the saved optimizer has 38 variables. \n",
      "  saveable.load_own_variables(weights_store.get(inner_path))\n",
      "/home/kirg/envs/envp3.12/lib/python3.12/site-packages/keras/src/models/functional.py:238: UserWarning: The structure of `inputs` doesn't match the expected structure.\n",
      "Expected: ['keras_tensor_5057']\n",
      "Received: inputs=Tensor(shape=(129135, 5))\n",
      "  warnings.warn(msg)\n",
      "WARNING:root:Too few points to create valid contours\n",
      "WARNING:root:Too few points to create valid contours\n",
      "WARNING:root:Too few points to create valid contours\n",
      "WARNING:root:Too few points to create valid contours\n",
      "WARNING:root:Too few points to create valid contours\n",
      "WARNING:root:Too few points to create valid contours\n"
     ]
    },
    {
     "name": "stdout",
     "output_type": "stream",
     "text": [
      "Saved: /data/kirg/MMVAE/cornerplots_train/corner_epoch_19.png\n",
      "Epoch 20: loading weights from /data/kirg/MMVAE/epochs/BandPassVAE/weights_epoch_20.weights.h5\n"
     ]
    },
    {
     "name": "stderr",
     "output_type": "stream",
     "text": [
      "/home/kirg/envs/envp3.12/lib/python3.12/site-packages/keras/src/models/functional.py:238: UserWarning: The structure of `inputs` doesn't match the expected structure.\n",
      "Expected: ['keras_tensor_5097']\n",
      "Received: inputs=Tensor(shape=(1, 5))\n",
      "  warnings.warn(msg)\n",
      "/home/kirg/envs/envp3.12/lib/python3.12/site-packages/keras/src/saving/saving_lib.py:757: UserWarning: Skipping variable loading for optimizer 'adam', because it has 2 variables whereas the saved optimizer has 38 variables. \n",
      "  saveable.load_own_variables(weights_store.get(inner_path))\n",
      "/home/kirg/envs/envp3.12/lib/python3.12/site-packages/keras/src/models/functional.py:238: UserWarning: The structure of `inputs` doesn't match the expected structure.\n",
      "Expected: ['keras_tensor_5097']\n",
      "Received: inputs=Tensor(shape=(129135, 5))\n",
      "  warnings.warn(msg)\n",
      "WARNING:root:Too few points to create valid contours\n",
      "WARNING:root:Too few points to create valid contours\n",
      "WARNING:root:Too few points to create valid contours\n",
      "WARNING:root:Too few points to create valid contours\n"
     ]
    },
    {
     "name": "stdout",
     "output_type": "stream",
     "text": [
      "Saved: /data/kirg/MMVAE/cornerplots_train/corner_epoch_20.png\n",
      "Epoch 21: loading weights from /data/kirg/MMVAE/epochs/BandPassVAE/weights_epoch_21.weights.h5\n"
     ]
    },
    {
     "name": "stderr",
     "output_type": "stream",
     "text": [
      "/home/kirg/envs/envp3.12/lib/python3.12/site-packages/keras/src/models/functional.py:238: UserWarning: The structure of `inputs` doesn't match the expected structure.\n",
      "Expected: ['keras_tensor_5137']\n",
      "Received: inputs=Tensor(shape=(1, 5))\n",
      "  warnings.warn(msg)\n",
      "/home/kirg/envs/envp3.12/lib/python3.12/site-packages/keras/src/saving/saving_lib.py:757: UserWarning: Skipping variable loading for optimizer 'adam', because it has 2 variables whereas the saved optimizer has 38 variables. \n",
      "  saveable.load_own_variables(weights_store.get(inner_path))\n",
      "/home/kirg/envs/envp3.12/lib/python3.12/site-packages/keras/src/models/functional.py:238: UserWarning: The structure of `inputs` doesn't match the expected structure.\n",
      "Expected: ['keras_tensor_5137']\n",
      "Received: inputs=Tensor(shape=(129135, 5))\n",
      "  warnings.warn(msg)\n",
      "WARNING:root:Too few points to create valid contours\n",
      "WARNING:root:Too few points to create valid contours\n",
      "WARNING:root:Too few points to create valid contours\n",
      "WARNING:root:Too few points to create valid contours\n",
      "WARNING:root:Too few points to create valid contours\n",
      "WARNING:root:Too few points to create valid contours\n"
     ]
    },
    {
     "name": "stdout",
     "output_type": "stream",
     "text": [
      "Saved: /data/kirg/MMVAE/cornerplots_train/corner_epoch_21.png\n",
      "Epoch 22: loading weights from /data/kirg/MMVAE/epochs/BandPassVAE/weights_epoch_22.weights.h5\n"
     ]
    },
    {
     "name": "stderr",
     "output_type": "stream",
     "text": [
      "/home/kirg/envs/envp3.12/lib/python3.12/site-packages/keras/src/models/functional.py:238: UserWarning: The structure of `inputs` doesn't match the expected structure.\n",
      "Expected: ['keras_tensor_5177']\n",
      "Received: inputs=Tensor(shape=(1, 5))\n",
      "  warnings.warn(msg)\n",
      "/home/kirg/envs/envp3.12/lib/python3.12/site-packages/keras/src/saving/saving_lib.py:757: UserWarning: Skipping variable loading for optimizer 'adam', because it has 2 variables whereas the saved optimizer has 38 variables. \n",
      "  saveable.load_own_variables(weights_store.get(inner_path))\n",
      "/home/kirg/envs/envp3.12/lib/python3.12/site-packages/keras/src/models/functional.py:238: UserWarning: The structure of `inputs` doesn't match the expected structure.\n",
      "Expected: ['keras_tensor_5177']\n",
      "Received: inputs=Tensor(shape=(129135, 5))\n",
      "  warnings.warn(msg)\n",
      "WARNING:root:Too few points to create valid contours\n",
      "WARNING:root:Too few points to create valid contours\n",
      "WARNING:root:Too few points to create valid contours\n",
      "WARNING:root:Too few points to create valid contours\n",
      "WARNING:root:Too few points to create valid contours\n",
      "WARNING:root:Too few points to create valid contours\n"
     ]
    },
    {
     "name": "stdout",
     "output_type": "stream",
     "text": [
      "Saved: /data/kirg/MMVAE/cornerplots_train/corner_epoch_22.png\n",
      "Epoch 23: loading weights from /data/kirg/MMVAE/epochs/BandPassVAE/weights_epoch_23.weights.h5\n"
     ]
    },
    {
     "name": "stderr",
     "output_type": "stream",
     "text": [
      "/home/kirg/envs/envp3.12/lib/python3.12/site-packages/keras/src/models/functional.py:238: UserWarning: The structure of `inputs` doesn't match the expected structure.\n",
      "Expected: ['keras_tensor_5217']\n",
      "Received: inputs=Tensor(shape=(1, 5))\n",
      "  warnings.warn(msg)\n",
      "/home/kirg/envs/envp3.12/lib/python3.12/site-packages/keras/src/saving/saving_lib.py:757: UserWarning: Skipping variable loading for optimizer 'adam', because it has 2 variables whereas the saved optimizer has 38 variables. \n",
      "  saveable.load_own_variables(weights_store.get(inner_path))\n",
      "/home/kirg/envs/envp3.12/lib/python3.12/site-packages/keras/src/models/functional.py:238: UserWarning: The structure of `inputs` doesn't match the expected structure.\n",
      "Expected: ['keras_tensor_5217']\n",
      "Received: inputs=Tensor(shape=(129135, 5))\n",
      "  warnings.warn(msg)\n",
      "WARNING:root:Too few points to create valid contours\n",
      "WARNING:root:Too few points to create valid contours\n",
      "WARNING:root:Too few points to create valid contours\n",
      "WARNING:root:Too few points to create valid contours\n",
      "WARNING:root:Too few points to create valid contours\n",
      "WARNING:root:Too few points to create valid contours\n"
     ]
    },
    {
     "name": "stdout",
     "output_type": "stream",
     "text": [
      "Saved: /data/kirg/MMVAE/cornerplots_train/corner_epoch_23.png\n",
      "Epoch 24: loading weights from /data/kirg/MMVAE/epochs/BandPassVAE/weights_epoch_24.weights.h5\n"
     ]
    },
    {
     "name": "stderr",
     "output_type": "stream",
     "text": [
      "/home/kirg/envs/envp3.12/lib/python3.12/site-packages/keras/src/models/functional.py:238: UserWarning: The structure of `inputs` doesn't match the expected structure.\n",
      "Expected: ['keras_tensor_5257']\n",
      "Received: inputs=Tensor(shape=(1, 5))\n",
      "  warnings.warn(msg)\n",
      "/home/kirg/envs/envp3.12/lib/python3.12/site-packages/keras/src/saving/saving_lib.py:757: UserWarning: Skipping variable loading for optimizer 'adam', because it has 2 variables whereas the saved optimizer has 38 variables. \n",
      "  saveable.load_own_variables(weights_store.get(inner_path))\n",
      "/home/kirg/envs/envp3.12/lib/python3.12/site-packages/keras/src/models/functional.py:238: UserWarning: The structure of `inputs` doesn't match the expected structure.\n",
      "Expected: ['keras_tensor_5257']\n",
      "Received: inputs=Tensor(shape=(129135, 5))\n",
      "  warnings.warn(msg)\n",
      "WARNING:root:Too few points to create valid contours\n",
      "WARNING:root:Too few points to create valid contours\n",
      "WARNING:root:Too few points to create valid contours\n",
      "WARNING:root:Too few points to create valid contours\n",
      "WARNING:root:Too few points to create valid contours\n",
      "WARNING:root:Too few points to create valid contours\n"
     ]
    },
    {
     "name": "stdout",
     "output_type": "stream",
     "text": [
      "Saved: /data/kirg/MMVAE/cornerplots_train/corner_epoch_24.png\n",
      "Epoch 25: loading weights from /data/kirg/MMVAE/epochs/BandPassVAE/weights_epoch_25.weights.h5\n"
     ]
    },
    {
     "name": "stderr",
     "output_type": "stream",
     "text": [
      "/home/kirg/envs/envp3.12/lib/python3.12/site-packages/keras/src/models/functional.py:238: UserWarning: The structure of `inputs` doesn't match the expected structure.\n",
      "Expected: ['keras_tensor_5297']\n",
      "Received: inputs=Tensor(shape=(1, 5))\n",
      "  warnings.warn(msg)\n",
      "/home/kirg/envs/envp3.12/lib/python3.12/site-packages/keras/src/saving/saving_lib.py:757: UserWarning: Skipping variable loading for optimizer 'adam', because it has 2 variables whereas the saved optimizer has 38 variables. \n",
      "  saveable.load_own_variables(weights_store.get(inner_path))\n",
      "/home/kirg/envs/envp3.12/lib/python3.12/site-packages/keras/src/models/functional.py:238: UserWarning: The structure of `inputs` doesn't match the expected structure.\n",
      "Expected: ['keras_tensor_5297']\n",
      "Received: inputs=Tensor(shape=(129135, 5))\n",
      "  warnings.warn(msg)\n",
      "WARNING:root:Too few points to create valid contours\n",
      "WARNING:root:Too few points to create valid contours\n",
      "WARNING:root:Too few points to create valid contours\n",
      "WARNING:root:Too few points to create valid contours\n"
     ]
    },
    {
     "name": "stdout",
     "output_type": "stream",
     "text": [
      "Saved: /data/kirg/MMVAE/cornerplots_train/corner_epoch_25.png\n",
      "Epoch 26: loading weights from /data/kirg/MMVAE/epochs/BandPassVAE/weights_epoch_26.weights.h5\n"
     ]
    },
    {
     "name": "stderr",
     "output_type": "stream",
     "text": [
      "/home/kirg/envs/envp3.12/lib/python3.12/site-packages/keras/src/models/functional.py:238: UserWarning: The structure of `inputs` doesn't match the expected structure.\n",
      "Expected: ['keras_tensor_5337']\n",
      "Received: inputs=Tensor(shape=(1, 5))\n",
      "  warnings.warn(msg)\n",
      "/home/kirg/envs/envp3.12/lib/python3.12/site-packages/keras/src/saving/saving_lib.py:757: UserWarning: Skipping variable loading for optimizer 'adam', because it has 2 variables whereas the saved optimizer has 38 variables. \n",
      "  saveable.load_own_variables(weights_store.get(inner_path))\n",
      "/home/kirg/envs/envp3.12/lib/python3.12/site-packages/keras/src/models/functional.py:238: UserWarning: The structure of `inputs` doesn't match the expected structure.\n",
      "Expected: ['keras_tensor_5337']\n",
      "Received: inputs=Tensor(shape=(129135, 5))\n",
      "  warnings.warn(msg)\n",
      "WARNING:root:Too few points to create valid contours\n",
      "WARNING:root:Too few points to create valid contours\n",
      "WARNING:root:Too few points to create valid contours\n",
      "WARNING:root:Too few points to create valid contours\n",
      "WARNING:root:Too few points to create valid contours\n"
     ]
    },
    {
     "name": "stdout",
     "output_type": "stream",
     "text": [
      "Saved: /data/kirg/MMVAE/cornerplots_train/corner_epoch_26.png\n",
      "Epoch 27: loading weights from /data/kirg/MMVAE/epochs/BandPassVAE/weights_epoch_27.weights.h5\n"
     ]
    },
    {
     "name": "stderr",
     "output_type": "stream",
     "text": [
      "/home/kirg/envs/envp3.12/lib/python3.12/site-packages/keras/src/models/functional.py:238: UserWarning: The structure of `inputs` doesn't match the expected structure.\n",
      "Expected: ['keras_tensor_5377']\n",
      "Received: inputs=Tensor(shape=(1, 5))\n",
      "  warnings.warn(msg)\n",
      "/home/kirg/envs/envp3.12/lib/python3.12/site-packages/keras/src/saving/saving_lib.py:757: UserWarning: Skipping variable loading for optimizer 'adam', because it has 2 variables whereas the saved optimizer has 38 variables. \n",
      "  saveable.load_own_variables(weights_store.get(inner_path))\n",
      "/home/kirg/envs/envp3.12/lib/python3.12/site-packages/keras/src/models/functional.py:238: UserWarning: The structure of `inputs` doesn't match the expected structure.\n",
      "Expected: ['keras_tensor_5377']\n",
      "Received: inputs=Tensor(shape=(129135, 5))\n",
      "  warnings.warn(msg)\n",
      "WARNING:root:Too few points to create valid contours\n",
      "WARNING:root:Too few points to create valid contours\n",
      "WARNING:root:Too few points to create valid contours\n",
      "WARNING:root:Too few points to create valid contours\n",
      "WARNING:root:Too few points to create valid contours\n"
     ]
    },
    {
     "name": "stdout",
     "output_type": "stream",
     "text": [
      "Saved: /data/kirg/MMVAE/cornerplots_train/corner_epoch_27.png\n",
      "Epoch 28: loading weights from /data/kirg/MMVAE/epochs/BandPassVAE/weights_epoch_28.weights.h5\n"
     ]
    },
    {
     "name": "stderr",
     "output_type": "stream",
     "text": [
      "/home/kirg/envs/envp3.12/lib/python3.12/site-packages/keras/src/models/functional.py:238: UserWarning: The structure of `inputs` doesn't match the expected structure.\n",
      "Expected: ['keras_tensor_5417']\n",
      "Received: inputs=Tensor(shape=(1, 5))\n",
      "  warnings.warn(msg)\n",
      "/home/kirg/envs/envp3.12/lib/python3.12/site-packages/keras/src/saving/saving_lib.py:757: UserWarning: Skipping variable loading for optimizer 'adam', because it has 2 variables whereas the saved optimizer has 38 variables. \n",
      "  saveable.load_own_variables(weights_store.get(inner_path))\n",
      "/home/kirg/envs/envp3.12/lib/python3.12/site-packages/keras/src/models/functional.py:238: UserWarning: The structure of `inputs` doesn't match the expected structure.\n",
      "Expected: ['keras_tensor_5417']\n",
      "Received: inputs=Tensor(shape=(129135, 5))\n",
      "  warnings.warn(msg)\n",
      "WARNING:root:Too few points to create valid contours\n",
      "WARNING:root:Too few points to create valid contours\n",
      "WARNING:root:Too few points to create valid contours\n",
      "WARNING:root:Too few points to create valid contours\n"
     ]
    },
    {
     "name": "stdout",
     "output_type": "stream",
     "text": [
      "Saved: /data/kirg/MMVAE/cornerplots_train/corner_epoch_28.png\n",
      "Epoch 29: loading weights from /data/kirg/MMVAE/epochs/BandPassVAE/weights_epoch_29.weights.h5\n"
     ]
    },
    {
     "name": "stderr",
     "output_type": "stream",
     "text": [
      "/home/kirg/envs/envp3.12/lib/python3.12/site-packages/keras/src/models/functional.py:238: UserWarning: The structure of `inputs` doesn't match the expected structure.\n",
      "Expected: ['keras_tensor_5457']\n",
      "Received: inputs=Tensor(shape=(1, 5))\n",
      "  warnings.warn(msg)\n",
      "/home/kirg/envs/envp3.12/lib/python3.12/site-packages/keras/src/saving/saving_lib.py:757: UserWarning: Skipping variable loading for optimizer 'adam', because it has 2 variables whereas the saved optimizer has 38 variables. \n",
      "  saveable.load_own_variables(weights_store.get(inner_path))\n",
      "/home/kirg/envs/envp3.12/lib/python3.12/site-packages/keras/src/models/functional.py:238: UserWarning: The structure of `inputs` doesn't match the expected structure.\n",
      "Expected: ['keras_tensor_5457']\n",
      "Received: inputs=Tensor(shape=(129135, 5))\n",
      "  warnings.warn(msg)\n",
      "WARNING:root:Too few points to create valid contours\n",
      "WARNING:root:Too few points to create valid contours\n",
      "WARNING:root:Too few points to create valid contours\n",
      "WARNING:root:Too few points to create valid contours\n",
      "WARNING:root:Too few points to create valid contours\n"
     ]
    },
    {
     "name": "stdout",
     "output_type": "stream",
     "text": [
      "Saved: /data/kirg/MMVAE/cornerplots_train/corner_epoch_29.png\n",
      "Epoch 30: loading weights from /data/kirg/MMVAE/epochs/BandPassVAE/weights_epoch_30.weights.h5\n"
     ]
    },
    {
     "name": "stderr",
     "output_type": "stream",
     "text": [
      "/home/kirg/envs/envp3.12/lib/python3.12/site-packages/keras/src/models/functional.py:238: UserWarning: The structure of `inputs` doesn't match the expected structure.\n",
      "Expected: ['keras_tensor_5497']\n",
      "Received: inputs=Tensor(shape=(1, 5))\n",
      "  warnings.warn(msg)\n",
      "/home/kirg/envs/envp3.12/lib/python3.12/site-packages/keras/src/saving/saving_lib.py:757: UserWarning: Skipping variable loading for optimizer 'adam', because it has 2 variables whereas the saved optimizer has 38 variables. \n",
      "  saveable.load_own_variables(weights_store.get(inner_path))\n",
      "/home/kirg/envs/envp3.12/lib/python3.12/site-packages/keras/src/models/functional.py:238: UserWarning: The structure of `inputs` doesn't match the expected structure.\n",
      "Expected: ['keras_tensor_5497']\n",
      "Received: inputs=Tensor(shape=(129135, 5))\n",
      "  warnings.warn(msg)\n",
      "WARNING:root:Too few points to create valid contours\n",
      "WARNING:root:Too few points to create valid contours\n",
      "WARNING:root:Too few points to create valid contours\n",
      "WARNING:root:Too few points to create valid contours\n"
     ]
    },
    {
     "name": "stdout",
     "output_type": "stream",
     "text": [
      "Saved: /data/kirg/MMVAE/cornerplots_train/corner_epoch_30.png\n",
      "Epoch 31: loading weights from /data/kirg/MMVAE/epochs/BandPassVAE/weights_epoch_31.weights.h5\n"
     ]
    },
    {
     "name": "stderr",
     "output_type": "stream",
     "text": [
      "/home/kirg/envs/envp3.12/lib/python3.12/site-packages/keras/src/models/functional.py:238: UserWarning: The structure of `inputs` doesn't match the expected structure.\n",
      "Expected: ['keras_tensor_5537']\n",
      "Received: inputs=Tensor(shape=(1, 5))\n",
      "  warnings.warn(msg)\n",
      "/home/kirg/envs/envp3.12/lib/python3.12/site-packages/keras/src/saving/saving_lib.py:757: UserWarning: Skipping variable loading for optimizer 'adam', because it has 2 variables whereas the saved optimizer has 38 variables. \n",
      "  saveable.load_own_variables(weights_store.get(inner_path))\n",
      "/home/kirg/envs/envp3.12/lib/python3.12/site-packages/keras/src/models/functional.py:238: UserWarning: The structure of `inputs` doesn't match the expected structure.\n",
      "Expected: ['keras_tensor_5537']\n",
      "Received: inputs=Tensor(shape=(129135, 5))\n",
      "  warnings.warn(msg)\n",
      "WARNING:root:Too few points to create valid contours\n",
      "WARNING:root:Too few points to create valid contours\n",
      "WARNING:root:Too few points to create valid contours\n"
     ]
    },
    {
     "name": "stdout",
     "output_type": "stream",
     "text": [
      "Saved: /data/kirg/MMVAE/cornerplots_train/corner_epoch_31.png\n",
      "Epoch 32: loading weights from /data/kirg/MMVAE/epochs/BandPassVAE/weights_epoch_32.weights.h5\n"
     ]
    },
    {
     "name": "stderr",
     "output_type": "stream",
     "text": [
      "/home/kirg/envs/envp3.12/lib/python3.12/site-packages/keras/src/models/functional.py:238: UserWarning: The structure of `inputs` doesn't match the expected structure.\n",
      "Expected: ['keras_tensor_5577']\n",
      "Received: inputs=Tensor(shape=(1, 5))\n",
      "  warnings.warn(msg)\n",
      "/home/kirg/envs/envp3.12/lib/python3.12/site-packages/keras/src/saving/saving_lib.py:757: UserWarning: Skipping variable loading for optimizer 'adam', because it has 2 variables whereas the saved optimizer has 38 variables. \n",
      "  saveable.load_own_variables(weights_store.get(inner_path))\n",
      "/home/kirg/envs/envp3.12/lib/python3.12/site-packages/keras/src/models/functional.py:238: UserWarning: The structure of `inputs` doesn't match the expected structure.\n",
      "Expected: ['keras_tensor_5577']\n",
      "Received: inputs=Tensor(shape=(129135, 5))\n",
      "  warnings.warn(msg)\n",
      "WARNING:root:Too few points to create valid contours\n",
      "WARNING:root:Too few points to create valid contours\n",
      "WARNING:root:Too few points to create valid contours\n",
      "WARNING:root:Too few points to create valid contours\n",
      "WARNING:root:Too few points to create valid contours\n"
     ]
    },
    {
     "name": "stdout",
     "output_type": "stream",
     "text": [
      "Saved: /data/kirg/MMVAE/cornerplots_train/corner_epoch_32.png\n",
      "Epoch 33: loading weights from /data/kirg/MMVAE/epochs/BandPassVAE/weights_epoch_33.weights.h5\n"
     ]
    },
    {
     "name": "stderr",
     "output_type": "stream",
     "text": [
      "/home/kirg/envs/envp3.12/lib/python3.12/site-packages/keras/src/models/functional.py:238: UserWarning: The structure of `inputs` doesn't match the expected structure.\n",
      "Expected: ['keras_tensor_5617']\n",
      "Received: inputs=Tensor(shape=(1, 5))\n",
      "  warnings.warn(msg)\n",
      "/home/kirg/envs/envp3.12/lib/python3.12/site-packages/keras/src/saving/saving_lib.py:757: UserWarning: Skipping variable loading for optimizer 'adam', because it has 2 variables whereas the saved optimizer has 38 variables. \n",
      "  saveable.load_own_variables(weights_store.get(inner_path))\n",
      "/home/kirg/envs/envp3.12/lib/python3.12/site-packages/keras/src/models/functional.py:238: UserWarning: The structure of `inputs` doesn't match the expected structure.\n",
      "Expected: ['keras_tensor_5617']\n",
      "Received: inputs=Tensor(shape=(129135, 5))\n",
      "  warnings.warn(msg)\n",
      "WARNING:root:Too few points to create valid contours\n",
      "WARNING:root:Too few points to create valid contours\n",
      "WARNING:root:Too few points to create valid contours\n"
     ]
    },
    {
     "name": "stdout",
     "output_type": "stream",
     "text": [
      "Saved: /data/kirg/MMVAE/cornerplots_train/corner_epoch_33.png\n",
      "Epoch 34: loading weights from /data/kirg/MMVAE/epochs/BandPassVAE/weights_epoch_34.weights.h5\n"
     ]
    },
    {
     "name": "stderr",
     "output_type": "stream",
     "text": [
      "/home/kirg/envs/envp3.12/lib/python3.12/site-packages/keras/src/models/functional.py:238: UserWarning: The structure of `inputs` doesn't match the expected structure.\n",
      "Expected: ['keras_tensor_5657']\n",
      "Received: inputs=Tensor(shape=(1, 5))\n",
      "  warnings.warn(msg)\n",
      "/home/kirg/envs/envp3.12/lib/python3.12/site-packages/keras/src/saving/saving_lib.py:757: UserWarning: Skipping variable loading for optimizer 'adam', because it has 2 variables whereas the saved optimizer has 38 variables. \n",
      "  saveable.load_own_variables(weights_store.get(inner_path))\n",
      "/home/kirg/envs/envp3.12/lib/python3.12/site-packages/keras/src/models/functional.py:238: UserWarning: The structure of `inputs` doesn't match the expected structure.\n",
      "Expected: ['keras_tensor_5657']\n",
      "Received: inputs=Tensor(shape=(129135, 5))\n",
      "  warnings.warn(msg)\n",
      "WARNING:root:Too few points to create valid contours\n",
      "WARNING:root:Too few points to create valid contours\n",
      "WARNING:root:Too few points to create valid contours\n",
      "WARNING:root:Too few points to create valid contours\n"
     ]
    },
    {
     "name": "stdout",
     "output_type": "stream",
     "text": [
      "Saved: /data/kirg/MMVAE/cornerplots_train/corner_epoch_34.png\n",
      "Epoch 35: loading weights from /data/kirg/MMVAE/epochs/BandPassVAE/weights_epoch_35.weights.h5\n"
     ]
    },
    {
     "name": "stderr",
     "output_type": "stream",
     "text": [
      "/home/kirg/envs/envp3.12/lib/python3.12/site-packages/keras/src/models/functional.py:238: UserWarning: The structure of `inputs` doesn't match the expected structure.\n",
      "Expected: ['keras_tensor_5697']\n",
      "Received: inputs=Tensor(shape=(1, 5))\n",
      "  warnings.warn(msg)\n",
      "/home/kirg/envs/envp3.12/lib/python3.12/site-packages/keras/src/saving/saving_lib.py:757: UserWarning: Skipping variable loading for optimizer 'adam', because it has 2 variables whereas the saved optimizer has 38 variables. \n",
      "  saveable.load_own_variables(weights_store.get(inner_path))\n",
      "/home/kirg/envs/envp3.12/lib/python3.12/site-packages/keras/src/models/functional.py:238: UserWarning: The structure of `inputs` doesn't match the expected structure.\n",
      "Expected: ['keras_tensor_5697']\n",
      "Received: inputs=Tensor(shape=(129135, 5))\n",
      "  warnings.warn(msg)\n",
      "WARNING:root:Too few points to create valid contours\n",
      "WARNING:root:Too few points to create valid contours\n"
     ]
    },
    {
     "name": "stdout",
     "output_type": "stream",
     "text": [
      "Saved: /data/kirg/MMVAE/cornerplots_train/corner_epoch_35.png\n",
      "Epoch 36: loading weights from /data/kirg/MMVAE/epochs/BandPassVAE/weights_epoch_36.weights.h5\n"
     ]
    },
    {
     "name": "stderr",
     "output_type": "stream",
     "text": [
      "/home/kirg/envs/envp3.12/lib/python3.12/site-packages/keras/src/models/functional.py:238: UserWarning: The structure of `inputs` doesn't match the expected structure.\n",
      "Expected: ['keras_tensor_5737']\n",
      "Received: inputs=Tensor(shape=(1, 5))\n",
      "  warnings.warn(msg)\n",
      "/home/kirg/envs/envp3.12/lib/python3.12/site-packages/keras/src/saving/saving_lib.py:757: UserWarning: Skipping variable loading for optimizer 'adam', because it has 2 variables whereas the saved optimizer has 38 variables. \n",
      "  saveable.load_own_variables(weights_store.get(inner_path))\n",
      "/home/kirg/envs/envp3.12/lib/python3.12/site-packages/keras/src/models/functional.py:238: UserWarning: The structure of `inputs` doesn't match the expected structure.\n",
      "Expected: ['keras_tensor_5737']\n",
      "Received: inputs=Tensor(shape=(129135, 5))\n",
      "  warnings.warn(msg)\n",
      "WARNING:root:Too few points to create valid contours\n",
      "WARNING:root:Too few points to create valid contours\n",
      "WARNING:root:Too few points to create valid contours\n"
     ]
    },
    {
     "name": "stdout",
     "output_type": "stream",
     "text": [
      "Saved: /data/kirg/MMVAE/cornerplots_train/corner_epoch_36.png\n",
      "Epoch 37: loading weights from /data/kirg/MMVAE/epochs/BandPassVAE/weights_epoch_37.weights.h5\n"
     ]
    },
    {
     "name": "stderr",
     "output_type": "stream",
     "text": [
      "/home/kirg/envs/envp3.12/lib/python3.12/site-packages/keras/src/models/functional.py:238: UserWarning: The structure of `inputs` doesn't match the expected structure.\n",
      "Expected: ['keras_tensor_5777']\n",
      "Received: inputs=Tensor(shape=(1, 5))\n",
      "  warnings.warn(msg)\n",
      "/home/kirg/envs/envp3.12/lib/python3.12/site-packages/keras/src/saving/saving_lib.py:757: UserWarning: Skipping variable loading for optimizer 'adam', because it has 2 variables whereas the saved optimizer has 38 variables. \n",
      "  saveable.load_own_variables(weights_store.get(inner_path))\n",
      "/home/kirg/envs/envp3.12/lib/python3.12/site-packages/keras/src/models/functional.py:238: UserWarning: The structure of `inputs` doesn't match the expected structure.\n",
      "Expected: ['keras_tensor_5777']\n",
      "Received: inputs=Tensor(shape=(129135, 5))\n",
      "  warnings.warn(msg)\n",
      "WARNING:root:Too few points to create valid contours\n",
      "WARNING:root:Too few points to create valid contours\n",
      "WARNING:root:Too few points to create valid contours\n"
     ]
    },
    {
     "name": "stdout",
     "output_type": "stream",
     "text": [
      "Saved: /data/kirg/MMVAE/cornerplots_train/corner_epoch_37.png\n",
      "Epoch 38: loading weights from /data/kirg/MMVAE/epochs/BandPassVAE/weights_epoch_38.weights.h5\n"
     ]
    },
    {
     "name": "stderr",
     "output_type": "stream",
     "text": [
      "/home/kirg/envs/envp3.12/lib/python3.12/site-packages/keras/src/models/functional.py:238: UserWarning: The structure of `inputs` doesn't match the expected structure.\n",
      "Expected: ['keras_tensor_5817']\n",
      "Received: inputs=Tensor(shape=(1, 5))\n",
      "  warnings.warn(msg)\n",
      "/home/kirg/envs/envp3.12/lib/python3.12/site-packages/keras/src/saving/saving_lib.py:757: UserWarning: Skipping variable loading for optimizer 'adam', because it has 2 variables whereas the saved optimizer has 38 variables. \n",
      "  saveable.load_own_variables(weights_store.get(inner_path))\n",
      "/home/kirg/envs/envp3.12/lib/python3.12/site-packages/keras/src/models/functional.py:238: UserWarning: The structure of `inputs` doesn't match the expected structure.\n",
      "Expected: ['keras_tensor_5817']\n",
      "Received: inputs=Tensor(shape=(129135, 5))\n",
      "  warnings.warn(msg)\n",
      "WARNING:root:Too few points to create valid contours\n",
      "WARNING:root:Too few points to create valid contours\n"
     ]
    },
    {
     "name": "stdout",
     "output_type": "stream",
     "text": [
      "Saved: /data/kirg/MMVAE/cornerplots_train/corner_epoch_38.png\n",
      "Epoch 39: loading weights from /data/kirg/MMVAE/epochs/BandPassVAE/weights_epoch_39.weights.h5\n"
     ]
    },
    {
     "name": "stderr",
     "output_type": "stream",
     "text": [
      "/home/kirg/envs/envp3.12/lib/python3.12/site-packages/keras/src/models/functional.py:238: UserWarning: The structure of `inputs` doesn't match the expected structure.\n",
      "Expected: ['keras_tensor_5857']\n",
      "Received: inputs=Tensor(shape=(1, 5))\n",
      "  warnings.warn(msg)\n",
      "/home/kirg/envs/envp3.12/lib/python3.12/site-packages/keras/src/saving/saving_lib.py:757: UserWarning: Skipping variable loading for optimizer 'adam', because it has 2 variables whereas the saved optimizer has 38 variables. \n",
      "  saveable.load_own_variables(weights_store.get(inner_path))\n",
      "/home/kirg/envs/envp3.12/lib/python3.12/site-packages/keras/src/models/functional.py:238: UserWarning: The structure of `inputs` doesn't match the expected structure.\n",
      "Expected: ['keras_tensor_5857']\n",
      "Received: inputs=Tensor(shape=(129135, 5))\n",
      "  warnings.warn(msg)\n",
      "WARNING:root:Too few points to create valid contours\n"
     ]
    },
    {
     "name": "stdout",
     "output_type": "stream",
     "text": [
      "Saved: /data/kirg/MMVAE/cornerplots_train/corner_epoch_39.png\n",
      "Epoch 40: loading weights from /data/kirg/MMVAE/epochs/BandPassVAE/weights_epoch_40.weights.h5\n"
     ]
    },
    {
     "name": "stderr",
     "output_type": "stream",
     "text": [
      "/home/kirg/envs/envp3.12/lib/python3.12/site-packages/keras/src/models/functional.py:238: UserWarning: The structure of `inputs` doesn't match the expected structure.\n",
      "Expected: ['keras_tensor_5897']\n",
      "Received: inputs=Tensor(shape=(1, 5))\n",
      "  warnings.warn(msg)\n",
      "/home/kirg/envs/envp3.12/lib/python3.12/site-packages/keras/src/saving/saving_lib.py:757: UserWarning: Skipping variable loading for optimizer 'adam', because it has 2 variables whereas the saved optimizer has 38 variables. \n",
      "  saveable.load_own_variables(weights_store.get(inner_path))\n",
      "/home/kirg/envs/envp3.12/lib/python3.12/site-packages/keras/src/models/functional.py:238: UserWarning: The structure of `inputs` doesn't match the expected structure.\n",
      "Expected: ['keras_tensor_5897']\n",
      "Received: inputs=Tensor(shape=(129135, 5))\n",
      "  warnings.warn(msg)\n",
      "WARNING:root:Too few points to create valid contours\n"
     ]
    },
    {
     "name": "stdout",
     "output_type": "stream",
     "text": [
      "Saved: /data/kirg/MMVAE/cornerplots_train/corner_epoch_40.png\n",
      "Epoch 41: loading weights from /data/kirg/MMVAE/epochs/BandPassVAE/weights_epoch_41.weights.h5\n"
     ]
    },
    {
     "name": "stderr",
     "output_type": "stream",
     "text": [
      "/home/kirg/envs/envp3.12/lib/python3.12/site-packages/keras/src/models/functional.py:238: UserWarning: The structure of `inputs` doesn't match the expected structure.\n",
      "Expected: ['keras_tensor_5937']\n",
      "Received: inputs=Tensor(shape=(1, 5))\n",
      "  warnings.warn(msg)\n",
      "/home/kirg/envs/envp3.12/lib/python3.12/site-packages/keras/src/saving/saving_lib.py:757: UserWarning: Skipping variable loading for optimizer 'adam', because it has 2 variables whereas the saved optimizer has 38 variables. \n",
      "  saveable.load_own_variables(weights_store.get(inner_path))\n",
      "/home/kirg/envs/envp3.12/lib/python3.12/site-packages/keras/src/models/functional.py:238: UserWarning: The structure of `inputs` doesn't match the expected structure.\n",
      "Expected: ['keras_tensor_5937']\n",
      "Received: inputs=Tensor(shape=(129135, 5))\n",
      "  warnings.warn(msg)\n",
      "WARNING:root:Too few points to create valid contours\n"
     ]
    },
    {
     "name": "stdout",
     "output_type": "stream",
     "text": [
      "Saved: /data/kirg/MMVAE/cornerplots_train/corner_epoch_41.png\n",
      "Epoch 42: loading weights from /data/kirg/MMVAE/epochs/BandPassVAE/weights_epoch_42.weights.h5\n"
     ]
    },
    {
     "name": "stderr",
     "output_type": "stream",
     "text": [
      "/home/kirg/envs/envp3.12/lib/python3.12/site-packages/keras/src/models/functional.py:238: UserWarning: The structure of `inputs` doesn't match the expected structure.\n",
      "Expected: ['keras_tensor_5977']\n",
      "Received: inputs=Tensor(shape=(1, 5))\n",
      "  warnings.warn(msg)\n",
      "/home/kirg/envs/envp3.12/lib/python3.12/site-packages/keras/src/saving/saving_lib.py:757: UserWarning: Skipping variable loading for optimizer 'adam', because it has 2 variables whereas the saved optimizer has 38 variables. \n",
      "  saveable.load_own_variables(weights_store.get(inner_path))\n",
      "/home/kirg/envs/envp3.12/lib/python3.12/site-packages/keras/src/models/functional.py:238: UserWarning: The structure of `inputs` doesn't match the expected structure.\n",
      "Expected: ['keras_tensor_5977']\n",
      "Received: inputs=Tensor(shape=(129135, 5))\n",
      "  warnings.warn(msg)\n",
      "WARNING:root:Too few points to create valid contours\n"
     ]
    },
    {
     "name": "stdout",
     "output_type": "stream",
     "text": [
      "Saved: /data/kirg/MMVAE/cornerplots_train/corner_epoch_42.png\n",
      "Epoch 43: loading weights from /data/kirg/MMVAE/epochs/BandPassVAE/weights_epoch_43.weights.h5\n"
     ]
    },
    {
     "name": "stderr",
     "output_type": "stream",
     "text": [
      "/home/kirg/envs/envp3.12/lib/python3.12/site-packages/keras/src/models/functional.py:238: UserWarning: The structure of `inputs` doesn't match the expected structure.\n",
      "Expected: ['keras_tensor_6017']\n",
      "Received: inputs=Tensor(shape=(1, 5))\n",
      "  warnings.warn(msg)\n",
      "/home/kirg/envs/envp3.12/lib/python3.12/site-packages/keras/src/saving/saving_lib.py:757: UserWarning: Skipping variable loading for optimizer 'adam', because it has 2 variables whereas the saved optimizer has 38 variables. \n",
      "  saveable.load_own_variables(weights_store.get(inner_path))\n",
      "/home/kirg/envs/envp3.12/lib/python3.12/site-packages/keras/src/models/functional.py:238: UserWarning: The structure of `inputs` doesn't match the expected structure.\n",
      "Expected: ['keras_tensor_6017']\n",
      "Received: inputs=Tensor(shape=(129135, 5))\n",
      "  warnings.warn(msg)\n",
      "WARNING:root:Too few points to create valid contours\n"
     ]
    },
    {
     "name": "stdout",
     "output_type": "stream",
     "text": [
      "Saved: /data/kirg/MMVAE/cornerplots_train/corner_epoch_43.png\n",
      "Epoch 44: loading weights from /data/kirg/MMVAE/epochs/BandPassVAE/weights_epoch_44.weights.h5\n"
     ]
    },
    {
     "name": "stderr",
     "output_type": "stream",
     "text": [
      "/home/kirg/envs/envp3.12/lib/python3.12/site-packages/keras/src/models/functional.py:238: UserWarning: The structure of `inputs` doesn't match the expected structure.\n",
      "Expected: ['keras_tensor_6057']\n",
      "Received: inputs=Tensor(shape=(1, 5))\n",
      "  warnings.warn(msg)\n",
      "/home/kirg/envs/envp3.12/lib/python3.12/site-packages/keras/src/saving/saving_lib.py:757: UserWarning: Skipping variable loading for optimizer 'adam', because it has 2 variables whereas the saved optimizer has 38 variables. \n",
      "  saveable.load_own_variables(weights_store.get(inner_path))\n",
      "/home/kirg/envs/envp3.12/lib/python3.12/site-packages/keras/src/models/functional.py:238: UserWarning: The structure of `inputs` doesn't match the expected structure.\n",
      "Expected: ['keras_tensor_6057']\n",
      "Received: inputs=Tensor(shape=(129135, 5))\n",
      "  warnings.warn(msg)\n",
      "WARNING:root:Too few points to create valid contours\n"
     ]
    },
    {
     "name": "stdout",
     "output_type": "stream",
     "text": [
      "Saved: /data/kirg/MMVAE/cornerplots_train/corner_epoch_44.png\n",
      "Epoch 45: loading weights from /data/kirg/MMVAE/epochs/BandPassVAE/weights_epoch_45.weights.h5\n"
     ]
    },
    {
     "name": "stderr",
     "output_type": "stream",
     "text": [
      "/home/kirg/envs/envp3.12/lib/python3.12/site-packages/keras/src/models/functional.py:238: UserWarning: The structure of `inputs` doesn't match the expected structure.\n",
      "Expected: ['keras_tensor_6097']\n",
      "Received: inputs=Tensor(shape=(1, 5))\n",
      "  warnings.warn(msg)\n",
      "/home/kirg/envs/envp3.12/lib/python3.12/site-packages/keras/src/saving/saving_lib.py:757: UserWarning: Skipping variable loading for optimizer 'adam', because it has 2 variables whereas the saved optimizer has 38 variables. \n",
      "  saveable.load_own_variables(weights_store.get(inner_path))\n",
      "/home/kirg/envs/envp3.12/lib/python3.12/site-packages/keras/src/models/functional.py:238: UserWarning: The structure of `inputs` doesn't match the expected structure.\n",
      "Expected: ['keras_tensor_6097']\n",
      "Received: inputs=Tensor(shape=(129135, 5))\n",
      "  warnings.warn(msg)\n",
      "WARNING:root:Too few points to create valid contours\n"
     ]
    },
    {
     "name": "stdout",
     "output_type": "stream",
     "text": [
      "Saved: /data/kirg/MMVAE/cornerplots_train/corner_epoch_45.png\n",
      "Epoch 46: loading weights from /data/kirg/MMVAE/epochs/BandPassVAE/weights_epoch_46.weights.h5\n"
     ]
    },
    {
     "name": "stderr",
     "output_type": "stream",
     "text": [
      "/home/kirg/envs/envp3.12/lib/python3.12/site-packages/keras/src/models/functional.py:238: UserWarning: The structure of `inputs` doesn't match the expected structure.\n",
      "Expected: ['keras_tensor_6137']\n",
      "Received: inputs=Tensor(shape=(1, 5))\n",
      "  warnings.warn(msg)\n",
      "/home/kirg/envs/envp3.12/lib/python3.12/site-packages/keras/src/saving/saving_lib.py:757: UserWarning: Skipping variable loading for optimizer 'adam', because it has 2 variables whereas the saved optimizer has 38 variables. \n",
      "  saveable.load_own_variables(weights_store.get(inner_path))\n",
      "/home/kirg/envs/envp3.12/lib/python3.12/site-packages/keras/src/models/functional.py:238: UserWarning: The structure of `inputs` doesn't match the expected structure.\n",
      "Expected: ['keras_tensor_6137']\n",
      "Received: inputs=Tensor(shape=(129135, 5))\n",
      "  warnings.warn(msg)\n",
      "WARNING:root:Too few points to create valid contours\n"
     ]
    },
    {
     "name": "stdout",
     "output_type": "stream",
     "text": [
      "Saved: /data/kirg/MMVAE/cornerplots_train/corner_epoch_46.png\n",
      "Epoch 47: loading weights from /data/kirg/MMVAE/epochs/BandPassVAE/weights_epoch_47.weights.h5\n"
     ]
    },
    {
     "name": "stderr",
     "output_type": "stream",
     "text": [
      "/home/kirg/envs/envp3.12/lib/python3.12/site-packages/keras/src/models/functional.py:238: UserWarning: The structure of `inputs` doesn't match the expected structure.\n",
      "Expected: ['keras_tensor_6177']\n",
      "Received: inputs=Tensor(shape=(1, 5))\n",
      "  warnings.warn(msg)\n",
      "/home/kirg/envs/envp3.12/lib/python3.12/site-packages/keras/src/saving/saving_lib.py:757: UserWarning: Skipping variable loading for optimizer 'adam', because it has 2 variables whereas the saved optimizer has 38 variables. \n",
      "  saveable.load_own_variables(weights_store.get(inner_path))\n",
      "/home/kirg/envs/envp3.12/lib/python3.12/site-packages/keras/src/models/functional.py:238: UserWarning: The structure of `inputs` doesn't match the expected structure.\n",
      "Expected: ['keras_tensor_6177']\n",
      "Received: inputs=Tensor(shape=(129135, 5))\n",
      "  warnings.warn(msg)\n"
     ]
    },
    {
     "name": "stdout",
     "output_type": "stream",
     "text": [
      "Saved: /data/kirg/MMVAE/cornerplots_train/corner_epoch_47.png\n",
      "Epoch 48: loading weights from /data/kirg/MMVAE/epochs/BandPassVAE/weights_epoch_48.weights.h5\n"
     ]
    },
    {
     "name": "stderr",
     "output_type": "stream",
     "text": [
      "/home/kirg/envs/envp3.12/lib/python3.12/site-packages/keras/src/models/functional.py:238: UserWarning: The structure of `inputs` doesn't match the expected structure.\n",
      "Expected: ['keras_tensor_6217']\n",
      "Received: inputs=Tensor(shape=(1, 5))\n",
      "  warnings.warn(msg)\n",
      "/home/kirg/envs/envp3.12/lib/python3.12/site-packages/keras/src/saving/saving_lib.py:757: UserWarning: Skipping variable loading for optimizer 'adam', because it has 2 variables whereas the saved optimizer has 38 variables. \n",
      "  saveable.load_own_variables(weights_store.get(inner_path))\n",
      "/home/kirg/envs/envp3.12/lib/python3.12/site-packages/keras/src/models/functional.py:238: UserWarning: The structure of `inputs` doesn't match the expected structure.\n",
      "Expected: ['keras_tensor_6217']\n",
      "Received: inputs=Tensor(shape=(129135, 5))\n",
      "  warnings.warn(msg)\n",
      "WARNING:root:Too few points to create valid contours\n"
     ]
    },
    {
     "name": "stdout",
     "output_type": "stream",
     "text": [
      "Saved: /data/kirg/MMVAE/cornerplots_train/corner_epoch_48.png\n",
      "Epoch 49: loading weights from /data/kirg/MMVAE/epochs/BandPassVAE/weights_epoch_49.weights.h5\n"
     ]
    },
    {
     "name": "stderr",
     "output_type": "stream",
     "text": [
      "/home/kirg/envs/envp3.12/lib/python3.12/site-packages/keras/src/models/functional.py:238: UserWarning: The structure of `inputs` doesn't match the expected structure.\n",
      "Expected: ['keras_tensor_6257']\n",
      "Received: inputs=Tensor(shape=(1, 5))\n",
      "  warnings.warn(msg)\n",
      "/home/kirg/envs/envp3.12/lib/python3.12/site-packages/keras/src/saving/saving_lib.py:757: UserWarning: Skipping variable loading for optimizer 'adam', because it has 2 variables whereas the saved optimizer has 38 variables. \n",
      "  saveable.load_own_variables(weights_store.get(inner_path))\n",
      "/home/kirg/envs/envp3.12/lib/python3.12/site-packages/keras/src/models/functional.py:238: UserWarning: The structure of `inputs` doesn't match the expected structure.\n",
      "Expected: ['keras_tensor_6257']\n",
      "Received: inputs=Tensor(shape=(129135, 5))\n",
      "  warnings.warn(msg)\n",
      "WARNING:root:Too few points to create valid contours\n",
      "WARNING:root:Too few points to create valid contours\n"
     ]
    },
    {
     "name": "stdout",
     "output_type": "stream",
     "text": [
      "Saved: /data/kirg/MMVAE/cornerplots_train/corner_epoch_49.png\n",
      "Epoch 50: loading weights from /data/kirg/MMVAE/epochs/BandPassVAE/weights_epoch_50.weights.h5\n"
     ]
    },
    {
     "name": "stderr",
     "output_type": "stream",
     "text": [
      "/home/kirg/envs/envp3.12/lib/python3.12/site-packages/keras/src/models/functional.py:238: UserWarning: The structure of `inputs` doesn't match the expected structure.\n",
      "Expected: ['keras_tensor_6297']\n",
      "Received: inputs=Tensor(shape=(1, 5))\n",
      "  warnings.warn(msg)\n",
      "/home/kirg/envs/envp3.12/lib/python3.12/site-packages/keras/src/saving/saving_lib.py:757: UserWarning: Skipping variable loading for optimizer 'adam', because it has 2 variables whereas the saved optimizer has 38 variables. \n",
      "  saveable.load_own_variables(weights_store.get(inner_path))\n",
      "/home/kirg/envs/envp3.12/lib/python3.12/site-packages/keras/src/models/functional.py:238: UserWarning: The structure of `inputs` doesn't match the expected structure.\n",
      "Expected: ['keras_tensor_6297']\n",
      "Received: inputs=Tensor(shape=(129135, 5))\n",
      "  warnings.warn(msg)\n",
      "WARNING:root:Too few points to create valid contours\n"
     ]
    },
    {
     "name": "stdout",
     "output_type": "stream",
     "text": [
      "Saved: /data/kirg/MMVAE/cornerplots_train/corner_epoch_50.png\n"
     ]
    }
   ],
   "source": [
    "import os\n",
    "import numpy as np\n",
    "import matplotlib.pyplot as plt\n",
    "import corner\n",
    "from astropy.io import fits\n",
    "from astropy.table import Table\n",
    "from ParamVAEapply import ParamVAEapply\n",
    "from BandPassVAE import BandPassVAE\n",
    "from SpectraVAE import SpectraVAE\n",
    "from ParamVAE import ParamVAE\n",
    "import tensorflow as tf\n",
    "import keras\n",
    "\n",
    "\n",
    "def load_paramvaeapply(weight_file: str, input_dim: int, latent_dim: int, beta: float) -> ParamVAEapply:\n",
    "    \"\"\"\n",
    "    Loads weights and builds a ParamVAEapply model from a saved epoch weight file.\n",
    "\n",
    "    Parameters:\n",
    "        weight_file (str): Path to the weights file (.h5).\n",
    "        input_dim (int): Dimensionality of the input data.\n",
    "        latent_dim (int): Latent space dimensionality.\n",
    "        beta (float): Beta value for VAE loss.\n",
    "\n",
    "    Returns:\n",
    "        ParamVAEapply: A ready-to-use model with loaded weights.\n",
    "    \"\"\"\n",
    "    # Build required submodels\n",
    "    spvae = SpectraVAE(100, latent_dim, beta=beta)\n",
    "    bpvae = BandPassVAE(input_dim, latent_dim, spvae, beta=beta)\n",
    "    bpvae.compile(optimizer=keras.optimizers.Adam())\n",
    "    bpvae(tf.zeros((1, input_dim)))  # Force model building\n",
    "\n",
    "    # Load weights\n",
    "    bpvae.load_weights(weight_file)\n",
    "\n",
    "    # Attach ParamVAE\n",
    "    parvae = ParamVAE(input_dim, latent_dim, spvae, beta=beta)\n",
    "    return ParamVAEapply(input_dim, latent_dim, bpvae, parvae, beta=beta)\n",
    "\n",
    "\n",
    "\n",
    "\n",
    "# Configuration\n",
    "latent_dim = 32\n",
    "beta = 1e-3\n",
    "epochs = 50\n",
    "input_dim = 5  # Number of input bands\n",
    "\n",
    "# Paths\n",
    "weight_path = \"/data/kirg/MMVAE/\"\n",
    "save_path = os.path.join(weight_path, 'epochs/BandPassVAE/')\n",
    "plot_output_path = os.path.join(weight_path, 'cornerplots_train')\n",
    "os.makedirs(plot_output_path, exist_ok=True)\n",
    "\n",
    "# Load photometric data from FITS file\n",
    "fits_file = 'DESI_DR1_HSCSSP_clean_v2.fits'\n",
    "t_hsc_ = Table.read(fits_file)\n",
    "t_hsc = t_hsc_[(t_hsc_['z'] > 0.1) & (t_hsc_['z'] < 0.95) & (t_hsc_['zwarn'] == 0)]\n",
    "\n",
    "# Convert magnitudes to normalized fluxes\n",
    "hsc_int = []\n",
    "for row in t_hsc:\n",
    "    mags = np.array([\n",
    "        row['g_kronflux_mag'],\n",
    "        row['r_kronflux_mag'],\n",
    "        row['i_kronflux_mag'],\n",
    "        row['z_kronflux_mag'],\n",
    "        row['y_kronflux_mag']\n",
    "    ])\n",
    "    band_flux = 10**(-0.4 * mags)\n",
    "    band_flux /= np.max(band_flux)\n",
    "    hsc_int.append(band_flux)\n",
    "\n",
    "hsc_input = np.reshape(hsc_int, (len(hsc_int), input_dim))\n",
    "\n",
    "tbl_train = Table.read('/data/kirg/MMVAE/datasets/train_dataset.fits')\n",
    "\n",
    "sed = np.array(tbl_train['SED'])\n",
    "\n",
    "tr_input = np.reshape(hsc_int, (len(hsc_int), input_dim))\n",
    "\n",
    "\n",
    "\n",
    "# Loop through all epochs\n",
    "for epoch in range(1, epochs + 1):\n",
    "    weight_file = os.path.join(save_path, f'weights_epoch_{epoch:02d}.weights.h5')\n",
    "    \n",
    "    if not os.path.exists(weight_file):\n",
    "        print(f\"Skipping epoch {epoch}: weights not found.\")\n",
    "        continue\n",
    "\n",
    "    print(f\"Epoch {epoch}: loading weights from {weight_file}\")\n",
    "\n",
    "    try:\n",
    "        parvaeapply = load_paramvaeapply(weight_file, input_dim, latent_dim, beta)\n",
    "    except Exception as e:\n",
    "        print(f\"Failed to load model at epoch {epoch}: {e}\")\n",
    "        continue\n",
    "\n",
    "    # Apply model to data\n",
    "    s = np.array(parvaeapply.encoder(tr_input))\n",
    "    ss = s[0, :, :]\n",
    "    s_clean = ss[np.all(np.isfinite(ss), axis=1)]\n",
    "\n",
    "    if s_clean.shape[0] < 10:\n",
    "        print(f\"Skipping epoch {epoch}: too few valid latent samples.\")\n",
    "        continue\n",
    "\n",
    "    # Plot corner plot\n",
    "    num_dims_to_plot = min(6, latent_dim)\n",
    "    fig = corner.corner(\n",
    "        s_clean[:, :num_dims_to_plot],\n",
    "        title_fmt=\".2f\",\n",
    "        title_kwargs={\"fontsize\": 12},\n",
    "        plot_contours=False\n",
    "    )\n",
    "    filename = os.path.join(plot_output_path, f\"corner_epoch_{epoch:02d}.png\")\n",
    "    fig.savefig(filename)\n",
    "    plt.close(fig)\n",
    "    print(f\"Saved: {filename}\")\n"
   ]
  },
  {
   "cell_type": "code",
   "execution_count": null,
   "id": "2186b532-94bc-46c8-9bb0-05a2acb9d73f",
   "metadata": {},
   "outputs": [],
   "source": []
  }
 ],
 "metadata": {
  "kernelspec": {
   "display_name": "Python 3 (ipykernel)",
   "language": "python",
   "name": "python3"
  },
  "language_info": {
   "codemirror_mode": {
    "name": "ipython",
    "version": 3
   },
   "file_extension": ".py",
   "mimetype": "text/x-python",
   "name": "python",
   "nbconvert_exporter": "python",
   "pygments_lexer": "ipython3",
   "version": "3.12.3"
  }
 },
 "nbformat": 4,
 "nbformat_minor": 5
}

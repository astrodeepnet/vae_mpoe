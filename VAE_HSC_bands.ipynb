{
  "nbformat": 4,
  "nbformat_minor": 0,
  "metadata": {
    "colab": {
      "provenance": [],
      "authorship_tag": "ABX9TyMIiGD9BNnbVNmUYBVJUUa4",
      "include_colab_link": true
    },
    "kernelspec": {
      "name": "python3",
      "display_name": "Python 3"
    },
    "language_info": {
      "name": "python"
    }
  },
  "cells": [
    {
      "cell_type": "markdown",
      "metadata": {
        "id": "view-in-github",
        "colab_type": "text"
      },
      "source": [
        "<a href=\"https://colab.research.google.com/github/astrodeepnet/vae_mpoe/blob/main/VAE_HSC_bands.ipynb\" target=\"_parent\"><img src=\"https://colab.research.google.com/assets/colab-badge.svg\" alt=\"Open In Colab\"/></a>"
      ]
    },
    {
      "cell_type": "code",
      "execution_count": 6,
      "metadata": {
        "colab": {
          "base_uri": "https://localhost:8080/"
        },
        "id": "6RNXMsF_xGll",
        "outputId": "f2079070-cf19-44b4-bad9-6c50c5ac1e9d"
      },
      "outputs": [
        {
          "output_type": "stream",
          "name": "stdout",
          "text": [
            "Drive already mounted at /content/drive/; to attempt to forcibly remount, call drive.mount(\"/content/drive/\", force_remount=True).\n"
          ]
        }
      ],
      "source": [
        "from google.colab import drive\n",
        "drive.mount('/content/drive/')"
      ]
    },
    {
      "cell_type": "code",
      "source": [
        "!ls '/content/drive/My Drive/EMILES'"
      ],
      "metadata": {
        "colab": {
          "base_uri": "https://localhost:8080/"
        },
        "id": "fVYF7Jmg_YRz",
        "outputId": "d9742ae8-40b1-4a16-efed-e82cf666dfc3"
      },
      "execution_count": 7,
      "outputs": [
        {
          "output_type": "stream",
          "name": "stdout",
          "text": [
            "SB_10_v11_BASTI_baseFe_KU.fits\tSB_2_v11_BASTI_baseFe_KU.fits  SB_6_v11_BASTI_baseFe_KU.fits\n",
            "SB_11_v11_BASTI_baseFe_KU.fits\tSB_3_v11_BASTI_baseFe_KU.fits  SB_7_v11_BASTI_baseFe_KU.fits\n",
            "SB_12_v11_BASTI_baseFe_KU.fits\tSB_4_v11_BASTI_baseFe_KU.fits  SB_8_v11_BASTI_baseFe_KU.fits\n",
            "SB_1_v11_BASTI_baseFe_KU.fits\tSB_5_v11_BASTI_baseFe_KU.fits  SB_9_v11_BASTI_baseFe_KU.fits\n"
          ]
        }
      ]
    },
    {
      "cell_type": "code",
      "source": [
        "import requests\n",
        "\n",
        "def fetch_filter_data(filters):\n",
        "    filter_dict = {}\n",
        "\n",
        "    for name, url in filters:\n",
        "        response = requests.get(url)\n",
        "        if response.status_code == 200:\n",
        "            data = response.text.splitlines()\n",
        "            wavelength, transmission = [], []\n",
        "\n",
        "            for line in data:\n",
        "                parts = line.split()\n",
        "                if len(parts) == 2:\n",
        "                    try:\n",
        "                        wavelength.append(float(parts[0]))\n",
        "                        transmission.append(float(parts[1]))\n",
        "                    except ValueError:\n",
        "                        continue  # Skip lines that cannot be converted\n",
        "\n",
        "            filter_dict[name] = {\n",
        "                \"wl\": wavelength,\n",
        "                \"tr\": transmission\n",
        "            }\n",
        "        else:\n",
        "            print(f\"Failed to fetch data for {name}\")\n",
        "\n",
        "    return filter_dict\n",
        "\n",
        "filters = [['HSCg', 'http://svo2.cab.inta-csic.es/svo/theory/fps/getdata.php?format=ascii&id=Subaru/HSC.g_filter'],\n",
        "           ['HSCr', 'http://svo2.cab.inta-csic.es/svo/theory/fps/getdata.php?format=ascii&id=Subaru/HSC.r_filter'],\n",
        "           ['HSCi', 'http://svo2.cab.inta-csic.es/svo/theory/fps/getdata.php?format=ascii&id=Subaru/HSC.i_filter'],\n",
        "           ['HSCz', 'http://svo2.cab.inta-csic.es/svo/theory/fps/getdata.php?format=ascii&id=Subaru/HSC.z_filter'],\n",
        "           ['HSCY', 'http://svo2.cab.inta-csic.es/svo/theory/fps/getdata.php?format=ascii&id=Subaru/HSC.Y_filter']]\n",
        "\n",
        "filter_data = fetch_filter_data(filters)\n"
      ],
      "metadata": {
        "id": "8TYFufV7iIS0"
      },
      "execution_count": 8,
      "outputs": []
    },
    {
      "cell_type": "code",
      "source": [
        "import os\n",
        "import os\n",
        "import glob\n",
        "import numpy as np\n",
        "from astropy.io import fits\n",
        "from astropy.table import Table\n",
        "import matplotlib.pyplot as plt\n",
        "import requests\n",
        "from scipy.interpolate import interp1d\n",
        "\n",
        "def get_waves(hdr):\n",
        "     waves = hdr['CRVAL1'] - (hdr['CRPIX1']-1.0)*hdr['CDELT1'] + ( np.arange(0., hdr['NAXIS1']) ) * hdr['CDELT1']\n",
        "     ran = [waves[0], waves[-1]]\n",
        "     return waves\n",
        "\n",
        "\n",
        "\n",
        "def read_fits_files(directory):\n",
        "    # Define the file pattern to match\n",
        "    file_pattern = os.path.join(directory, \"SB_?_v11_BASTI_baseFe_KU.fits\")\n",
        "    fits_files = glob.glob(file_pattern)\n",
        "\n",
        "    all_spectra = []\n",
        "    all_params = []\n",
        "\n",
        "    for fits_file in fits_files:\n",
        "        with fits.open(fits_file) as hdul:\n",
        "            spectra = hdul[0].data  # Extracting spectral data\n",
        "            params = hdul[1].data  # Extracting table data\n",
        "            all_spectra.extend(spectra)\n",
        "            all_params.append(np.array([tuple(row) for row in params]))  # Ensure structured array consistency\n",
        "\n",
        "    # Stack spectra along a new axis if necessary (e.g., assuming same dimensions)\n",
        "    stacked_spectra = np.array(all_spectra)  # Convert list to numpy array\n",
        "\n",
        "    # Convert list of structured arrays into a single structured array\n",
        "    structured_params = np.concatenate(all_params) if all_params else None\n",
        "\n",
        "    # Create an Astropy Table\n",
        "    result_table = Table(rows=structured_params, names=params.names)\n",
        "\n",
        "    wl = get_waves(hdul[0].header)\n",
        "    return stacked_spectra, result_table, wl\n",
        "\n",
        "# Example usage\n",
        "directory = \"/content/drive/My Drive/EMILES/\"  # Change to the directory containing your FITS files\n",
        "spectra, param_table, wl = read_fits_files(directory)\n"
      ],
      "metadata": {
        "id": "G7GVR-p2RxFz"
      },
      "execution_count": 9,
      "outputs": []
    },
    {
      "cell_type": "code",
      "source": [
        "age = 1000\n",
        "met = 0.02\n",
        "da = np.abs(param_table['AGE'] - age)\n",
        "dm = np.abs(param_table['ZSTARS'] - met)\n",
        "idx = np.where((da == np.min(da)) & (dm == np.min(dm)))[0]\n",
        "print(param_table[idx])\n",
        "spec = spectra[idx]\n",
        "\n",
        "\n",
        "plt.plot(wl, spec[0])\n",
        "plt.xscale('log')\n",
        "plt.yscale('log')\n",
        "\n",
        "\n",
        "def calc_spec(spectra, param_table, wl, age = 1000, met = 0.02, z=0.0):\n",
        "    da = np.abs(param_table['AGE'] - age)\n",
        "    dm = np.abs(param_table['ZSTARS']/met - 1)\n",
        "    idx = np.where((da == np.min(da)) & (dm == np.min(dm)))[0]\n",
        "    spec = spectra[idx][0]\n",
        "    return (spec, wl*(1 + z))"
      ],
      "metadata": {
        "colab": {
          "base_uri": "https://localhost:8080/",
          "height": 490
        },
        "id": "U7z-QS8pUCOp",
        "outputId": "fdcad18d-e83e-45df-936f-a3bab146a40c"
      },
      "execution_count": 19,
      "outputs": [
        {
          "output_type": "stream",
          "name": "stdout",
          "text": [
            " AGE   AGEBOL MGAL MSTARS MWD MBHNS MSUB    ZSTARS       ZBOL   \n",
            "------ ------ ---- ------ --- ----- ---- ----------- -----------\n",
            "1000.0 1000.0  1.0    1.0 0.0   0.0  0.0 0.022963073 0.022963073\n"
          ]
        },
        {
          "output_type": "display_data",
          "data": {
            "text/plain": [
              "<Figure size 640x480 with 1 Axes>"
            ],
            "image/png": "[encoded data removed]"
          },
          "metadata": {}
        }
      ]
    },
    {
      "cell_type": "code",
      "source": [
        "def download_filter_curve(url):\n",
        "    \"\"\"Download and parse the filter transmission curve from a given URL.\"\"\"\n",
        "    response = requests.get(url)\n",
        "    response.raise_for_status()\n",
        "    data = np.loadtxt(response.iter_lines())\n",
        "    return data[:, 0], data[:, 1]  # wavelengths, transmissions\n",
        "\n",
        "def calculate_flux_and_mag(spectra_list, wavelengths_list, filters):\n",
        "    \"\"\"Calculate the flux and AB magnitude for multiple spectra and filters.\"\"\"\n",
        "    all_results = []\n",
        "\n",
        "    for spectra, wavelengths in zip(spectra_list, wavelengths_list):\n",
        "        results = []\n",
        "        for filter_name, filter_url in filters:\n",
        "            #filter_wavelengths, transmissions = download_filter_curve(filter_url)\n",
        "            fd = filter_data[filter_name]\n",
        "            filter_wavelengths, transmissions = fd['wl'], fd['tr']\n",
        "            # Interpolate spectra onto the filter transmission wavelengths\n",
        "            interp_flux = interp1d(wavelengths, spectra, kind='linear', fill_value=0, bounds_error=False)\n",
        "            flux_interp = interp_flux(filter_wavelengths)\n",
        "\n",
        "            # Calculate total flux (assuming simple integration)\n",
        "            total_flux = np.trapz(flux_interp * transmissions, filter_wavelengths)\n",
        "            total_flux /= np.trapz(transmissions, filter_wavelengths)\n",
        "            # Calculate AB magnitude\n",
        "            if total_flux > 0:\n",
        "                ab_magnitude = -2.5 * np.log10(total_flux) - 48.6  # AB mag formula\n",
        "            else:\n",
        "                ab_magnitude = np.inf  # Undefined magnitude for zero flux\n",
        "\n",
        "            results.append([filter_name, total_flux, ab_magnitude])\n",
        "\n",
        "        all_results.append(results)\n",
        "\n",
        "    return all_results\n",
        "\n",
        "\n",
        "filters = [['HSCg', 'http://svo2.cab.inta-csic.es/svo/theory/fps/getdata.php?format=ascii&id=Subaru/HSC.g_filter'],\n",
        "           ['HSCr', 'http://svo2.cab.inta-csic.es/svo/theory/fps/getdata.php?format=ascii&id=Subaru/HSC.r_filter'],\n",
        "           ['HSCi', 'http://svo2.cab.inta-csic.es/svo/theory/fps/getdata.php?format=ascii&id=Subaru/HSC.i_filter'],\n",
        "           ['HSCz', 'http://svo2.cab.inta-csic.es/svo/theory/fps/getdata.php?format=ascii&id=Subaru/HSC.z_filter'],\n",
        "           ['HSCY', 'http://svo2.cab.inta-csic.es/svo/theory/fps/getdata.php?format=ascii&id=Subaru/HSC.Y_filter']]\n",
        "\n",
        "spectra_list = []\n",
        "wavelengths_list = []\n",
        "\n",
        "z_vals = np.arange(0, 1, 0.05)\n",
        "age_vals = np.arange(1000, 13000, 500, dtype=np.float64)\n",
        "metdex_vals = [0, -0.3, -0.5]\n",
        "param_list = []\n",
        "\n",
        "for i,z in enumerate(z_vals):\n",
        "    for j,age in enumerate(age_vals):\n",
        "        for k,metdex in enumerate(metdex_vals):\n",
        "            gen = calc_spec(spectra, param_table, wl, age = age, met = 0.02*10**metdex, z=z)\n",
        "            spectra_list.append(gen[0])\n",
        "            wavelengths_list.append(gen[1])\n",
        "            param_list.append([z, age, metdex])  # Store the corresponding parameters\n",
        "\n",
        "\n",
        "print(len(spectra_list))\n",
        "print(len(wavelengths_list))\n",
        "mags = calculate_flux_and_mag(spectra_list, wavelengths_list, filters)\n",
        "output_array = [[[entry[1] for entry in mag_entry], params] for mag_entry, params in zip(mags, param_list)]"
      ],
      "metadata": {
        "colab": {
          "base_uri": "https://localhost:8080/"
        },
        "id": "djKq347LXqou",
        "outputId": "fd4fe7ef-d541-4054-bb27-72db4cb88c76"
      },
      "execution_count": 36,
      "outputs": [
        {
          "output_type": "stream",
          "name": "stdout",
          "text": [
            "1440\n",
            "1440\n"
          ]
        },
        {
          "output_type": "stream",
          "name": "stderr",
          "text": [
            "<ipython-input-36-82759bedb825>:23: DeprecationWarning: `trapz` is deprecated. Use `trapezoid` instead, or one of the numerical integration functions in `scipy.integrate`.\n",
            "  total_flux = np.trapz(flux_interp * transmissions, filter_wavelengths)\n",
            "<ipython-input-36-82759bedb825>:24: DeprecationWarning: `trapz` is deprecated. Use `trapezoid` instead, or one of the numerical integration functions in `scipy.integrate`.\n",
            "  total_flux /= np.trapz(transmissions, filter_wavelengths)\n"
          ]
        }
      ]
    },
    {
      "cell_type": "code",
      "source": [
        "output_array = [[[float(val) for val in flux_list], [float(params[0]), float(params[1]), params[2]]] for flux_list, params in output_array]\n",
        "\n",
        "N_smpl = 80  # Number of realizations per entry\n",
        "\n",
        "# Create new array with perturbations\n",
        "dataset_rnd = []\n",
        "\n",
        "for flux_list, params in output_array:\n",
        "    for _ in range(N_smpl):\n",
        "        perturbed_flux = [val + 0.1 * np.random.uniform(0, 1) * val for val in flux_list]  # Add perturbation\n",
        "        dataset_rnd.append([perturbed_flux, params])  # Duplicate params as required\n",
        "\n",
        "integrals = np.array([entry[0] for entry in dataset_rnd])  # 2D array of flux values\n",
        "params = np.array([entry[1] for entry in dataset_rnd])  # 2D array of corresponding parameters"
      ],
      "metadata": {
        "id": "E9oGBAHBoLN6"
      },
      "execution_count": 56,
      "outputs": []
    },
    {
      "cell_type": "code",
      "source": [
        "for j in range(7):\n",
        "    sed = [dataset_rnd[j][0][i] for i in range(5)]\n",
        "    plt.plot(range(5), sed)\n"
      ],
      "metadata": {
        "colab": {
          "base_uri": "https://localhost:8080/",
          "height": 430
        },
        "id": "tN42B8mxZYbx",
        "outputId": "fe0b48f3-16cc-4373-d5f1-0dc4d2cdbf62"
      },
      "execution_count": 51,
      "outputs": [
        {
          "output_type": "display_data",
          "data": {
            "text/plain": [
              "<Figure size 640x480 with 1 Axes>"
            ],
            "image/png": "[encoded data removed]"
          },
          "metadata": {}
        }
      ]
    },
    {
      "cell_type": "code",
      "source": [
        "import os\n",
        "\n",
        "os.environ[\"KERAS_BACKEND\"] = \"tensorflow\"\n",
        "\n",
        "import tensorflow as tf\n",
        "import keras\n",
        "from keras import ops\n",
        "from keras import layers\n",
        "\n",
        "import numpy as np\n",
        "import matplotlib.pyplot as plt\n",
        "\n",
        "\n",
        "\n",
        "class Sampling(layers.Layer):\n",
        "\n",
        "    def __init__(self, **kwargs):\n",
        "        super().__init__(**kwargs)\n",
        "        self.seed_generator = keras.random.SeedGenerator(1337)\n",
        "\n",
        "    def call(self, inputs):\n",
        "        z_mean, z_log_var = inputs\n",
        "        batch = ops.shape(z_mean)[0]\n",
        "        dim = ops.shape(z_mean)[1]\n",
        "        epsilon = keras.random.normal(shape=(batch, dim), seed=self.seed_generator)\n",
        "        return z_mean + ops.exp(0.5 * z_log_var) * epsilon\n",
        "\n",
        "\n",
        "def build_dense_encoder_sed_branch(input_shape):\n",
        "    dense_input = keras.Input(shape=input_shape)\n",
        "#    x = layers.Dense(64, activation='relu')(dense_input)\n",
        "#    x = layers.Dense(32, activation='relu')(x)\n",
        "    x = layers.Dense(32, activation='relu')(dense_input)\n",
        "    x = layers.Dense(16, activation='relu')(x)\n",
        "    return keras.Model(dense_input, x, name='dense_encoder_branch')\n",
        "\n",
        "def build_dense_decoder_sed(latent_dim, output_dim):\n",
        "    latent_inputs = keras.Input(shape=(latent_dim,), name=f'z_sampling')\n",
        "    x = layers.Dense(16, activation='relu')(latent_inputs)\n",
        "    x = layers.Dense(32, activation='relu')(x)\n",
        "#    x = layers.Dense(64, activation='relu')(x)\n",
        "    outputs = layers.Dense(output_dim, activation='sigmoid')(x)\n",
        "    return keras.Model(latent_inputs, outputs, name='dense_decoder')\n",
        "\n",
        "def build_encoder_sp_branch(input_shape):\n",
        "    cnn_input = keras.Input(shape=input_shape)\n",
        "    #x = layers.Conv1D(32, 3, activation='relu', strides=2, padding='same')(cnn_input)\n",
        "    #x = layers.Conv1D(64, 3, activation='relu', strides=2, padding='same')(x)\n",
        "    #x = layers.Conv1D(128, 3, activation='relu', strides=2, padding='same')(x)\n",
        "    x = layers.Flatten()(cnn_input)\n",
        "    x = layers.Dense(128, activation='relu')(x)\n",
        "    x = layers.Dense(128, activation='relu')(x)\n",
        "    x = layers.Dense(64, activation='relu')(x)\n",
        "    return keras.Model(cnn_input, x, name='cnn_encoder')\n",
        "\n",
        "def build_dense_decoder_sp(latent_dim, output_dim):\n",
        "    latent_inputs = layers.Input(shape=(latent_dim,), name='z_sampling')\n",
        "    x = layers.Dense(16, activation='relu')(latent_inputs)\n",
        "    x = layers.Dense(32, activation='relu')(x)\n",
        "    x = layers.Dense(64, activation='relu')(x)\n",
        "    x = layers.Dense(128, activation='relu')(x)\n",
        "    #x = layers.Dense(128, activation='relu')(x)\n",
        "    x = layers.Dense(128, activation='relu')(x)\n",
        "    #x = layers.Dense(256, activation='relu')(x)\n",
        "    #x = layers.Dense(256, activation='relu')(x)\n",
        "    x = layers.Dense(256, activation='relu')(x)\n",
        "    outputs = layers.Dense(output_dim[0], activation='sigmoid')(x)\n",
        "    #outputs = layers.Reshape(output_dim)(x)\n",
        "\n",
        "    decoder = keras.Model(latent_inputs, outputs, name='dense_decoder')\n",
        "    return decoder\n",
        "\n",
        "\n",
        "def corner_plot(r, max_params):\n",
        "    axs = tuple(range(min(max_params, r[0].shape[1])))  # Ensure indices do not exceed max dimensions\n",
        "    fig, axes = plt.subplots(len(axs), len(axs), figsize=(10, 10))\n",
        "\n",
        "    for i, ax_i in enumerate(axs):\n",
        "        for j, ax_j in enumerate(axs):\n",
        "            ax = axes[i, j]\n",
        "\n",
        "            if i == j:\n",
        "                # Diagonal: 1D histogram\n",
        "                ax.hist(r[0][:, ax_i], bins=100, color='steelblue', alpha=0.7)\n",
        "            elif i > j:\n",
        "                # Lower triangle: 2D histogram\n",
        "                ax.hist2d(r[0][:, ax_j], r[0][:, ax_i], bins=100, cmap='Blues')\n",
        "            else:\n",
        "                # Upper triangle: empty space\n",
        "                ax.set_visible(False)\n",
        "\n",
        "            # Remove ticks for clarity\n",
        "            ax.set_xticks([])\n",
        "            ax.set_yticks([])\n",
        "\n",
        "    plt.tight_layout()"
      ],
      "metadata": {
        "colab": {
          "base_uri": "https://localhost:8080/"
        },
        "id": "WPutUUveh86L",
        "outputId": "cb4914fc-4905-4626-c757-b115153faf3e"
      },
      "execution_count": 58,
      "outputs": [
        {
          "output_type": "execute_result",
          "data": {
            "text/plain": [
              "(115200, 5)"
            ]
          },
          "metadata": {},
          "execution_count": 58
        }
      ]
    },
    {
      "cell_type": "code",
      "execution_count": null,
      "metadata": {
        "id": "w3enlRrwQXVK"
      },
      "outputs": [],
      "source": [
        "class BandPassVAE(keras.Model):\n",
        "    def __init__(self, input_dim, latent_dim, beta=1, **kwargs):\n",
        "        super().__init__(**kwargs)\n",
        "        self.encoder_branch = build_dense_encoder_sed_branch((input_dim,))\n",
        "\n",
        "        self.z_mean = layers.Dense(latent_dim, name='z_mean')(self.encoder_branch.output)\n",
        "        self.z_log_var = layers.Dense(latent_dim, name='z_log_var')(self.encoder_branch.output)\n",
        "\n",
        "        self.z = Sampling()([self.z_mean, self.z_log_var])\n",
        "\n",
        "        self.encoder = keras.Model(self.encoder_branch.inputs, [self.z_mean, self.z_log_var, self.z], name='dense_encoder')\n",
        "\n",
        "        self.decoder = spvae.decoder\n",
        "        self.decoder.trainable = False  # Prevent training of the decoder\n",
        "\n",
        "        self.total_loss_tracker = keras.metrics.Mean(name=\"total_loss\")\n",
        "        self.reconstruction_loss_tracker = keras.metrics.Mean(\n",
        "            name=\"reconstruction_loss\"\n",
        "        )\n",
        "        self.kl_loss_tracker = keras.metrics.Mean(name=\"kl_loss\")\n",
        "        self.beta = beta\n",
        "        #super().__init__(inputs=self.encoder.input, outputs=self.decoder.output, **kwargs)\n",
        "\n",
        "    @property\n",
        "    def metrics(self):\n",
        "        return [\n",
        "            self.total_loss_tracker,\n",
        "            self.reconstruction_loss_tracker,\n",
        "            self.kl_loss_tracker,\n",
        "        ]\n",
        "\n",
        "    def apply(self, data):\n",
        "        data_in = data\n",
        "        z_mean, z_log_var, z = self.encoder(data_in)\n",
        "        reconstruction = self.decoder(z)\n",
        "        return (z_mean, z_log_var, z, reconstruction)\n",
        "\n",
        "    def call(self, data):\n",
        "        (data_in, data_out) = data[0]\n",
        "        return self.apply(data_in)[3]\n",
        "\n",
        "    def train_step(self, data):\n",
        "        (data_in, data_out) = data[0]\n",
        "        with tf.GradientTape() as tape:\n",
        "            (z_mean, z_log_var, z, reconstruction) = self.apply(data_in)\n",
        "            reconstruction_loss = ops.mean(\n",
        "                    keras.losses.mean_squared_error(data_out, reconstruction),\n",
        "            )\n",
        "            kl_loss = -0.5 * (1 + z_log_var - ops.square(z_mean) - ops.exp(z_log_var))\n",
        "            kl_loss = ops.mean(ops.sum(kl_loss, axis=1))\n",
        "            total_loss = reconstruction_loss + kl_loss*self.beta\n",
        "        grads = tape.gradient(total_loss, self.trainable_weights)\n",
        "        self.optimizer.apply_gradients(zip(grads, self.trainable_weights))\n",
        "        self.total_loss_tracker.update_state(total_loss)\n",
        "        self.reconstruction_loss_tracker.update_state(reconstruction_loss)\n",
        "        self.kl_loss_tracker.update_state(kl_loss)\n",
        "        return {\n",
        "            \"loss\": total_loss,\n",
        "            \"reconstruction_loss\": reconstruction_loss,\n",
        "            \"kl_loss\": kl_loss,\n",
        "       }\n",
        "\n",
        "    def test_step(self, data):\n",
        "        print(data)\n",
        "        (data_in, data_out) = data[0]\n",
        "        (z_mean, z_log_var, z, reconstruction) = self.apply(data_in)\n",
        "        reconstruction_loss = ops.mean(\n",
        "                #keras.losses.mean_squared_error(data, reconstruction),\n",
        "                tf.keras.backend.mean(tf.keras.backend.square((data_out - reconstruction)/data_out))\n",
        "        )\n",
        "        kl_loss = -0.5 * (1 + z_log_var - ops.square(z_mean) - ops.exp(z_log_var))\n",
        "        kl_loss = ops.mean(ops.sum(kl_loss, axis=1))\n",
        "        total_loss = reconstruction_loss + kl_loss*self.beta\n",
        "        return {\n",
        "            \"loss\": total_loss,\n",
        "            \"reconstruction_loss\": reconstruction_loss,\n",
        "            \"kl_loss\": kl_loss,\n",
        "        }\n",
        "\n",
        "    def call(self, data):\n",
        "        data_in  = data\n",
        "        z_mean, z_log_var, z = self.encoder(data_in)\n",
        "        reconstruction = self.decoder(z)\n",
        "        return reconstruction"
      ]
    }
  ]
}